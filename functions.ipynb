{
 "cells": [
  {
   "cell_type": "code",
   "execution_count": null,
   "id": "f8e26f08-4bd8-4c96-ae31-67c2cf89cab9",
   "metadata": {},
   "outputs": [],
   "source": [
    "def my_function():\n",
    "\n",
    "    print(\"hello from function\")"
   ]
  },
  {
   "cell_type": "code",
   "execution_count": 5,
   "id": "ef3b9d8b-7672-4565-b1c2-dca2600a35c3",
   "metadata": {},
   "outputs": [
    {
     "name": "stdout",
     "output_type": "stream",
     "text": [
      "hello from function\n"
     ]
    }
   ],
   "source": [
    "my_function()"
   ]
  },
  {
   "cell_type": "code",
   "execution_count": 7,
   "id": "3a3bfd41-3b68-4eee-af5d-b6bafc30df95",
   "metadata": {},
   "outputs": [
    {
     "name": "stdout",
     "output_type": "stream",
     "text": [
      "donald trump\n",
      "ABC trump\n"
     ]
    }
   ],
   "source": [
    "def my_function(fname):\n",
    "    print(fname + \" trump\")\n",
    "\n",
    "my_function(\"donald\")\n",
    "my_function(\"ABC\")"
   ]
  },
  {
   "cell_type": "code",
   "execution_count": 9,
   "id": "df8444e4-9f2d-4a0b-9265-701440a7a89a",
   "metadata": {},
   "outputs": [
    {
     "name": "stdout",
     "output_type": "stream",
     "text": [
      "mellinia trump\n"
     ]
    }
   ],
   "source": [
    "my_function(\"mellinia\")"
   ]
  },
  {
   "cell_type": "code",
   "execution_count": 11,
   "id": "3762a0d1-1676-49bf-9123-8d7e1ea6b01f",
   "metadata": {},
   "outputs": [],
   "source": [
    "def even_odd(num):\n",
    "    if num%2==0:\n",
    "     print(\"the number is even\")\n",
    "    else:\n",
    "      print(\"the number is odd\")  "
   ]
  },
  {
   "cell_type": "code",
   "execution_count": 13,
   "id": "f531a1d4-b8b1-43aa-b096-e304b93aab16",
   "metadata": {},
   "outputs": [
    {
     "name": "stdout",
     "output_type": "stream",
     "text": [
      "the number is even\n"
     ]
    }
   ],
   "source": [
    "even_odd(24)"
   ]
  },
  {
   "cell_type": "code",
   "execution_count": 15,
   "id": "86dff9d9-05d6-4576-b8d8-12510e609698",
   "metadata": {},
   "outputs": [
    {
     "name": "stdout",
     "output_type": "stream",
     "text": [
      "the number is odd\n"
     ]
    }
   ],
   "source": [
    "even_odd(13)"
   ]
  },
  {
   "cell_type": "code",
   "execution_count": 17,
   "id": "c04f466f-a4f2-4f01-aa46-a2d22746e23e",
   "metadata": {},
   "outputs": [
    {
     "data": {
      "text/plain": [
       "5"
      ]
     },
     "execution_count": 17,
     "metadata": {},
     "output_type": "execute_result"
    }
   ],
   "source": [
    "def add(a,b):\n",
    "    return a+b\n",
    "\n",
    "add(2,3)"
   ]
  },
  {
   "cell_type": "code",
   "execution_count": 21,
   "id": "e6309025-f18b-4c37-9ed4-8d0592710a02",
   "metadata": {},
   "outputs": [
    {
     "data": {
      "text/plain": [
       "9"
      ]
     },
     "execution_count": 21,
     "metadata": {},
     "output_type": "execute_result"
    }
   ],
   "source": [
    "add(4,5)"
   ]
  },
  {
   "cell_type": "code",
   "execution_count": 23,
   "id": "17b0d947-ddc6-4e46-a4ec-c6bc646aed86",
   "metadata": {},
   "outputs": [
    {
     "data": {
      "text/plain": [
       "(6, 2)"
      ]
     },
     "execution_count": 23,
     "metadata": {},
     "output_type": "execute_result"
    }
   ],
   "source": [
    "def add(a,b):\n",
    "    return a+b,a\n",
    "\n",
    "add(2,4)"
   ]
  },
  {
   "cell_type": "code",
   "execution_count": 25,
   "id": "1ab4be09-71f7-4078-bdbe-e073bf95b18a",
   "metadata": {},
   "outputs": [],
   "source": [
    "def swap(a,b):\n",
    "    a,b=b,a\n",
    "    print(a)\n",
    "    print(b)"
   ]
  },
  {
   "cell_type": "code",
   "execution_count": 27,
   "id": "ac81ea81-0601-4608-80e0-ce4393326372",
   "metadata": {},
   "outputs": [
    {
     "name": "stdout",
     "output_type": "stream",
     "text": [
      "4\n",
      "2\n"
     ]
    }
   ],
   "source": [
    "swap(2,4)"
   ]
  },
  {
   "cell_type": "code",
   "execution_count": 29,
   "id": "287935cb-03be-493c-9528-aa91cd00baf6",
   "metadata": {},
   "outputs": [],
   "source": [
    "def swap(a,b):\n",
    "    temp=a\n",
    "    a=b\n",
    "    b=temp\n",
    "    print(a)\n",
    "    print(b)"
   ]
  },
  {
   "cell_type": "code",
   "execution_count": 31,
   "id": "b40494a8-4038-4fe9-a13f-48037c1a3e31",
   "metadata": {},
   "outputs": [
    {
     "name": "stdout",
     "output_type": "stream",
     "text": [
      "4\n",
      "5\n"
     ]
    }
   ],
   "source": [
    "swap(5,4)"
   ]
  },
  {
   "cell_type": "code",
   "execution_count": 33,
   "id": "331ba338-7662-4d28-8759-30827d766156",
   "metadata": {},
   "outputs": [],
   "source": [
    "def my_function():\n",
    "\n",
    "    print(\"hello divyansh\")"
   ]
  },
  {
   "cell_type": "code",
   "execution_count": null,
   "id": "5c9502bb-3de3-43c8-8121-16a53c1bb95e",
   "metadata": {},
   "outputs": [],
   "source": []
  }
 ],
 "metadata": {
  "kernelspec": {
   "display_name": "Python [conda env:base] *",
   "language": "python",
   "name": "conda-base-py"
  },
  "language_info": {
   "codemirror_mode": {
    "name": "ipython",
    "version": 3
   },
   "file_extension": ".py",
   "mimetype": "text/x-python",
   "name": "python",
   "nbconvert_exporter": "python",
   "pygments_lexer": "ipython3",
   "version": "3.12.7"
  }
 },
 "nbformat": 4,
 "nbformat_minor": 5
}
