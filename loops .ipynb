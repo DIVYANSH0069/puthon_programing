{
 "cells": [
  {
   "cell_type": "code",
   "execution_count": 1,
   "id": "7db6dcc8-3c0f-4a7d-8237-6ff0a90e489d",
   "metadata": {},
   "outputs": [
    {
     "name": "stdout",
     "output_type": "stream",
     "text": [
      "1\n",
      "2\n",
      "3\n",
      "4\n"
     ]
    }
   ],
   "source": [
    "i = 1\n",
    "while i < 5:\n",
    "    print(i)\n",
    "    i = i + 1"
   ]
  },
  {
   "cell_type": "code",
   "execution_count": 3,
   "id": "71729de2-05ab-4274-a96e-e24f2af6f43f",
   "metadata": {},
   "outputs": [
    {
     "name": "stdout",
     "output_type": "stream",
     "text": [
      "1\n",
      "2\n",
      "3\n",
      "4\n",
      "5\n",
      "6\n",
      "7\n",
      "8\n",
      "9\n"
     ]
    }
   ],
   "source": [
    "i = 1\n",
    "while i < 10:\n",
    "    print(i)\n",
    "    i = i + 1"
   ]
  },
  {
   "cell_type": "code",
   "execution_count": 5,
   "id": "b3eb7de8-5a32-4b59-ae17-57070d92f513",
   "metadata": {},
   "outputs": [
    {
     "name": "stdout",
     "output_type": "stream",
     "text": [
      "1\n",
      "2\n",
      "3\n",
      "4\n",
      "5\n",
      "6\n",
      "7\n",
      "8\n",
      "9\n",
      "10\n"
     ]
    }
   ],
   "source": [
    "i = 1\n",
    "while i <= 10:\n",
    "    print(i)\n",
    "    i = i + 1"
   ]
  },
  {
   "cell_type": "code",
   "execution_count": 7,
   "id": "75d61c07-6528-4cd2-b238-7502064b3806",
   "metadata": {},
   "outputs": [
    {
     "name": "stdout",
     "output_type": "stream",
     "text": [
      "2\n",
      "4\n",
      "6\n",
      "8\n",
      "10\n"
     ]
    }
   ],
   "source": [
    "i = 2\n",
    "while i <= 10:\n",
    "    print(i)\n",
    "    i+=2"
   ]
  },
  {
   "cell_type": "code",
   "execution_count": 9,
   "id": "f6491088-b157-4f70-8d7b-642a04c76df3",
   "metadata": {},
   "outputs": [
    {
     "name": "stdout",
     "output_type": "stream",
     "text": [
      "1\n",
      "3\n",
      "5\n",
      "7\n",
      "9\n"
     ]
    }
   ],
   "source": [
    "i = 1\n",
    "while i < 10:\n",
    "   print(i)\n",
    "   i=i+2"
   ]
  },
  {
   "cell_type": "code",
   "execution_count": 11,
   "id": "87ad3706-3e6b-4418-ac9d-ceff6000e9dd",
   "metadata": {},
   "outputs": [
    {
     "name": "stdin",
     "output_type": "stream",
     "text": [
      "enter no: 2\n"
     ]
    },
    {
     "name": "stdout",
     "output_type": "stream",
     "text": [
      "the no is: 3\n"
     ]
    }
   ],
   "source": [
    "n = int(input(\"enter no:\"))\n",
    "i = 1\n",
    "sum = 0\n",
    "while (i<=n):\n",
    "    sum += i\n",
    "    i +=1\n",
    "print(\"the no is:\", sum)"
   ]
  },
  {
   "cell_type": "code",
   "execution_count": 15,
   "id": "35f9ac3c-317c-46bb-a2ee-c851bbc20094",
   "metadata": {},
   "outputs": [
    {
     "name": "stdin",
     "output_type": "stream",
     "text": [
      "enter the last number: 2\n"
     ]
    },
    {
     "name": "stdout",
     "output_type": "stream",
     "text": [
      "the sum is: 9\n"
     ]
    }
   ],
   "source": [
    "n = int(input(\"enter the last number:\"))\n",
    "i = 1\n",
    "sum = 0\n",
    "while (i <= n):\n",
    "    sum = sum + i*i*i\n",
    "    i = i + 1 \n",
    "print(\"the sum is:\", sum)"
   ]
  },
  {
   "cell_type": "code",
   "execution_count": 17,
   "id": "19db503a-fc68-42ff-8b4e-a2e7d5da80a8",
   "metadata": {},
   "outputs": [
    {
     "name": "stdin",
     "output_type": "stream",
     "text": [
      "enter the last number: 3\n"
     ]
    },
    {
     "name": "stdout",
     "output_type": "stream",
     "text": [
      "the sum is: 14\n"
     ]
    }
   ],
   "source": [
    "n = int(input(\"enter the last number:\"))\n",
    "i = 1\n",
    "sum = 0\n",
    "while (i <= n):\n",
    "    sum = sum + i*i\n",
    "    i = i + 1 \n",
    "print(\"the sum is:\", sum)"
   ]
  },
  {
   "cell_type": "code",
   "execution_count": 69,
   "id": "6c67c963-371b-4a93-a9dc-1b42c9a43324",
   "metadata": {},
   "outputs": [
    {
     "name": "stdout",
     "output_type": "stream",
     "text": [
      "1\n",
      "2\n",
      "3\n",
      "4\n",
      "5\n",
      "6\n",
      "7\n",
      "8\n",
      "9\n"
     ]
    }
   ],
   "source": [
    "# break\n",
    "\n",
    "i = 1\n",
    "while i < 10:\n",
    "    print(i)\n",
    "    if i == 9:\n",
    "        break\n",
    "    i += 1    "
   ]
  },
  {
   "cell_type": "code",
   "execution_count": 21,
   "id": "40c75243-d927-4f02-9a57-6b1c5d7e45af",
   "metadata": {},
   "outputs": [
    {
     "name": "stdout",
     "output_type": "stream",
     "text": [
      "1\n",
      "2\n",
      "3\n",
      "4\n",
      "6\n",
      "7\n",
      "9\n",
      "10\n"
     ]
    }
   ],
   "source": [
    "i = 0\n",
    "while i < 10:\n",
    "    i += 1\n",
    "    if i == 5:\n",
    "      continue\n",
    "    elif i==8:\n",
    "       continue\n",
    "    print(i)"
   ]
  },
  {
   "cell_type": "code",
   "execution_count": 67,
   "id": "4a4107ba-d1b2-4c8b-a89d-7ee61533186b",
   "metadata": {},
   "outputs": [
    {
     "name": "stdout",
     "output_type": "stream",
     "text": [
      "1\n",
      "4\n",
      "5\n",
      "6\n",
      "7\n",
      "8\n",
      "9\n"
     ]
    }
   ],
   "source": [
    "i = 0\n",
    "while i < 9:\n",
    "    i += 1\n",
    "    if i == 2:\n",
    "      continue\n",
    "    elif i==3:\n",
    "       continue\n",
    "    print(i)"
   ]
  },
  {
   "cell_type": "code",
   "execution_count": 25,
   "id": "6b1b940e-a8ce-4192-98ba-b04e4b4e84ef",
   "metadata": {},
   "outputs": [
    {
     "name": "stdout",
     "output_type": "stream",
     "text": [
      "a\n",
      "b\n",
      "c\n",
      "d\n"
     ]
    }
   ],
   "source": [
    "                                   # for loops \n",
    "\n",
    "l1 = [\"a\",\"b\",\"c\",\"d\"]\n",
    "for x in l1:\n",
    "    print(x)"
   ]
  },
  {
   "cell_type": "code",
   "execution_count": 27,
   "id": "ae081a5e-8062-4c7c-a1a2-5ffef66718df",
   "metadata": {},
   "outputs": [
    {
     "name": "stdout",
     "output_type": "stream",
     "text": [
      "D\n",
      "I\n",
      "V\n",
      "Y\n",
      "A\n",
      "N\n",
      "S\n",
      "H\n"
     ]
    }
   ],
   "source": [
    "for x in \"DIVYANSH\":\n",
    "    print(x)"
   ]
  },
  {
   "cell_type": "code",
   "execution_count": 29,
   "id": "283d34fc-24cc-42eb-97ef-4b1ae0c29d37",
   "metadata": {},
   "outputs": [
    {
     "name": "stdout",
     "output_type": "stream",
     "text": [
      "a\n",
      "b\n"
     ]
    }
   ],
   "source": [
    "li = [\"a\",\"b\",\"c\",\"d\"]\n",
    "for x in l1:\n",
    "   print(x)\n",
    "   if x == \"b\":\n",
    "       break"
   ]
  },
  {
   "cell_type": "code",
   "execution_count": 31,
   "id": "fe3a8736-b29f-46af-9b1d-b39b7c8efa8c",
   "metadata": {},
   "outputs": [
    {
     "name": "stdout",
     "output_type": "stream",
     "text": [
      "a\n"
     ]
    }
   ],
   "source": [
    "li = [\"a\",\"b\",\"c\",\"d\"]\n",
    "for x in l1:\n",
    "   if x == \"b\":\n",
    "       break\n",
    "   print(x)    "
   ]
  },
  {
   "cell_type": "code",
   "execution_count": 33,
   "id": "19e485a1-9e76-4d3c-adc2-318d0b4866b3",
   "metadata": {},
   "outputs": [
    {
     "name": "stdout",
     "output_type": "stream",
     "text": [
      "a\n",
      "c\n",
      "d\n"
     ]
    }
   ],
   "source": [
    "li = [\"a\",\"b\",\"c\",\"d\"]\n",
    "for x in l1:\n",
    "   if x == \"b\":\n",
    "     continue\n",
    "   print(x)    "
   ]
  },
  {
   "cell_type": "code",
   "execution_count": 35,
   "id": "3538491e-f5b9-409f-bac3-4543006fd56c",
   "metadata": {},
   "outputs": [
    {
     "name": "stdout",
     "output_type": "stream",
     "text": [
      "0\n",
      "1\n",
      "2\n",
      "3\n",
      "4\n",
      "5\n",
      "6\n",
      "2143\n",
      "123\n",
      "7834\n",
      "this line is not inside the loop\n",
      "the loop cycled 10 times\n"
     ]
    }
   ],
   "source": [
    "counter = 0\n",
    "simple_list = [0,1,2,3,4,5,6,2143,123,7834]\n",
    "for i in simple_list:\n",
    "    print(i)\n",
    "    counter = counter + 1\n",
    "print('this line is not inside the loop')\n",
    "print('the loop cycled',counter,'times')"
   ]
  },
  {
   "cell_type": "code",
   "execution_count": 37,
   "id": "77992190-0a87-4d81-9ff7-a08a0bfe4772",
   "metadata": {},
   "outputs": [
    {
     "name": "stdout",
     "output_type": "stream",
     "text": [
      "range(0, 6)\n"
     ]
    }
   ],
   "source": [
    "print(range(6))"
   ]
  },
  {
   "cell_type": "code",
   "execution_count": 39,
   "id": "7121b6a2-827d-42e1-9058-fdea1b9c135c",
   "metadata": {},
   "outputs": [
    {
     "name": "stdout",
     "output_type": "stream",
     "text": [
      "0\n",
      "1\n",
      "2\n",
      "3\n",
      "4\n",
      "5\n"
     ]
    }
   ],
   "source": [
    "for i in range(6):\n",
    "    print(i)"
   ]
  },
  {
   "cell_type": "code",
   "execution_count": 41,
   "id": "12b849d9-1f43-44af-bc7d-aaa8c0ff2370",
   "metadata": {},
   "outputs": [
    {
     "name": "stdout",
     "output_type": "stream",
     "text": [
      "4\n",
      "5\n",
      "6\n",
      "7\n",
      "8\n",
      "9\n"
     ]
    }
   ],
   "source": [
    "for i in range(4,10):\n",
    "    print(i)"
   ]
  },
  {
   "cell_type": "code",
   "execution_count": 43,
   "id": "e8738913-c2f5-46db-be3a-6f4f0a51cbf6",
   "metadata": {},
   "outputs": [
    {
     "name": "stdout",
     "output_type": "stream",
     "text": [
      "2\n",
      "5\n",
      "8\n"
     ]
    }
   ],
   "source": [
    "for i in range(2,10,3):\n",
    "    print(i)"
   ]
  },
  {
   "cell_type": "code",
   "execution_count": 45,
   "id": "0fe56670-2e3e-45e2-b966-a309fc761d21",
   "metadata": {},
   "outputs": [
    {
     "name": "stdout",
     "output_type": "stream",
     "text": [
      "1 google\n",
      "1 meta\n",
      "1 fujitsu\n",
      "2 google\n",
      "2 meta\n",
      "2 fujitsu\n",
      "3 google\n",
      "3 meta\n",
      "3 fujitsu\n"
     ]
    }
   ],
   "source": [
    "# nested for loops\n",
    "l2 = [1,2,3]\n",
    "l3 = [\"google\",\"meta\",\"fujitsu\"]\n",
    "for x in l2:\n",
    "  for y in l3:\n",
    "      print(x,y)\n",
    "    "
   ]
  },
  {
   "cell_type": "code",
   "execution_count": 47,
   "id": "c9173089-9fee-4646-8e49-a07a0c2664fa",
   "metadata": {},
   "outputs": [
    {
     "name": "stdout",
     "output_type": "stream",
     "text": [
      "0\n",
      "1\n",
      "2\n"
     ]
    }
   ],
   "source": [
    "for x in [0, 1, 2]:\n",
    "    pass\n",
    "    print(x)"
   ]
  },
  {
   "cell_type": "code",
   "execution_count": 51,
   "id": "23d8b429-e65a-4653-89d3-78df1fb8a107",
   "metadata": {},
   "outputs": [
    {
     "name": "stdin",
     "output_type": "stream",
     "text": [
      "enter any number 2\n"
     ]
    },
    {
     "name": "stdout",
     "output_type": "stream",
     "text": [
      "factorial of a number is 2\n"
     ]
    }
   ],
   "source": [
    "# WAP FOR FACTORIAL OF A NUMBER USING FOR LOOP.\n",
    "\n",
    "num = int(input(\"enter any number\"))\n",
    "fact = 1\n",
    "for i in range(1, num + 1):\n",
    "    fact =fact* i\n",
    "print(\"factorial of a number is\",fact)"
   ]
  },
  {
   "cell_type": "code",
   "execution_count": 55,
   "id": "badbd4b1-3ba5-4e47-853e-88b3f3ed7060",
   "metadata": {},
   "outputs": [
    {
     "name": "stdin",
     "output_type": "stream",
     "text": [
      "enter any number 3\n"
     ]
    },
    {
     "name": "stdout",
     "output_type": "stream",
     "text": [
      "factorial of a number is 6\n"
     ]
    }
   ],
   "source": [
    "\n",
    "num = int(input(\"enter any number\"))\n",
    "fact = 1\n",
    "for i in range(1, num + 1):\n",
    "    fact =fact* i\n",
    "print(\"factorial of a number is\",fact)"
   ]
  },
  {
   "cell_type": "code",
   "execution_count": 57,
   "id": "e6a85c92-ccae-4563-9329-8272e2adc50d",
   "metadata": {},
   "outputs": [
    {
     "name": "stdin",
     "output_type": "stream",
     "text": [
      "enter the value of number 5\n"
     ]
    },
    {
     "name": "stdout",
     "output_type": "stream",
     "text": [
      "prime number\n"
     ]
    }
   ],
   "source": [
    "num = int(input(\"enter the value of number\"))\n",
    "prime = 1\n",
    "for x in range (2,num):\n",
    "    if(num%2==0):\n",
    "        prime=2\n",
    "if(prime==1):\n",
    "    print(\"prime number\")\n",
    "else:\n",
    "    print(\"not prime number\")"
   ]
  },
  {
   "cell_type": "code",
   "execution_count": 59,
   "id": "8f6b95e9-28e1-40bb-bc4f-86e992f789e3",
   "metadata": {},
   "outputs": [
    {
     "name": "stdin",
     "output_type": "stream",
     "text": [
      "enter any number: 6\n"
     ]
    },
    {
     "name": "stdout",
     "output_type": "stream",
     "text": [
      "reverse of given number 6\n"
     ]
    }
   ],
   "source": [
    "num=int(input(\"enter any number:\"))\n",
    "rev= 0\n",
    "while(num>0):\n",
    "    rev = (rev*10)+num%10\n",
    "    num = num//10\n",
    "print(\"reverse of given number\",rev)\n"
   ]
  },
  {
   "cell_type": "code",
   "execution_count": 61,
   "id": "5a657d56-3108-4bda-afd5-0799f6af111f",
   "metadata": {},
   "outputs": [
    {
     "name": "stdin",
     "output_type": "stream",
     "text": [
      "enter any number: 3\n"
     ]
    },
    {
     "name": "stdout",
     "output_type": "stream",
     "text": [
      "given number is palindrome\n"
     ]
    }
   ],
   "source": [
    "num=int(input(\"enter any number:\"))\n",
    "rev=0\n",
    "x=num\n",
    "while(num>0):\n",
    "    rev = (rev*10)+num%10\n",
    "    num = num//10\n",
    "if(x==rev):\n",
    "    print(\"given number is palindrome\")\n",
    "else:\n",
    "    print(\"given number is not palindrome\")\n",
    "\n"
   ]
  },
  {
   "cell_type": "code",
   "execution_count": 63,
   "id": "b4881962-3c87-4eba-9425-5955bdc9d03d",
   "metadata": {},
   "outputs": [
    {
     "name": "stdin",
     "output_type": "stream",
     "text": [
      "enter number: 5\n"
     ]
    },
    {
     "name": "stdout",
     "output_type": "stream",
     "text": [
      "number is not armstrong\n"
     ]
    }
   ],
   "source": [
    "n=int(input(\"enter number:\"))\n",
    "x=n\n",
    "sum=0\n",
    "while(n>0):\n",
    "    sum=sum+(n%10)*(n%10)*(n%10)\n",
    "    n=n//10\n",
    "if x==sum:\n",
    "    print(\"number is armstrong\")\n",
    "else:\n",
    "    print(\"number is not armstrong\")"
   ]
  },
  {
   "cell_type": "code",
   "execution_count": 65,
   "id": "83ed7188-c834-4734-9ce7-a7ba7de006e3",
   "metadata": {},
   "outputs": [
    {
     "name": "stdin",
     "output_type": "stream",
     "text": [
      "enter the limit number 3\n"
     ]
    },
    {
     "name": "stdout",
     "output_type": "stream",
     "text": [
      "0\n",
      "1\n",
      "1\n",
      "2\n",
      "3\n"
     ]
    }
   ],
   "source": [
    "#wap to print fibonacci series upto given limit.\n",
    "n = int(input(\"enter the limit number\"))\n",
    "x=0\n",
    "y=1\n",
    "z=0\n",
    "while(z<=n):\n",
    "    print(z)\n",
    "    x=y\n",
    "    y=z\n",
    "    z=x+y"
   ]
  },
  {
   "cell_type": "code",
   "execution_count": 1,
   "id": "40040281-1321-4092-872d-cd9075e27099",
   "metadata": {},
   "outputs": [
    {
     "name": "stdin",
     "output_type": "stream",
     "text": [
      "enter number of rows: 10\n"
     ]
    },
    {
     "name": "stdout",
     "output_type": "stream",
     "text": [
      "#\n",
      "##\n",
      "###\n",
      "####\n",
      "#####\n",
      "######\n",
      "#######\n",
      "########\n",
      "#########\n",
      "##########\n"
     ]
    }
   ],
   "source": [
    "num = int(input(\"enter number of rows:\"))\n",
    "for i in range(1,num+1):\n",
    "    for j in range (1,i+1):\n",
    "        print(\"#\",end=\"\")\n",
    "    print()"
   ]
  },
  {
   "cell_type": "code",
   "execution_count": null,
   "id": "2b82f5b5-66c0-472f-8af1-7066de3fd153",
   "metadata": {},
   "outputs": [],
   "source": []
  }
 ],
 "metadata": {
  "kernelspec": {
   "display_name": "Python [conda env:base] *",
   "language": "python",
   "name": "conda-base-py"
  },
  "language_info": {
   "codemirror_mode": {
    "name": "ipython",
    "version": 3
   },
   "file_extension": ".py",
   "mimetype": "text/x-python",
   "name": "python",
   "nbconvert_exporter": "python",
   "pygments_lexer": "ipython3",
   "version": "3.12.7"
  }
 },
 "nbformat": 4,
 "nbformat_minor": 5
}
