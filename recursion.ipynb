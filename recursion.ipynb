{
 "cells": [
  {
   "cell_type": "code",
   "execution_count": 9,
   "id": "9b7dbb46-a871-4049-b268-1c0576546c9f",
   "metadata": {},
   "outputs": [],
   "source": [
    "def fact(n):\n",
    "    if n == 0:\n",
    "        return 1\n",
    "    else:\n",
    "        return n * fact(n-1)\n",
    "        "
   ]
  },
  {
   "cell_type": "code",
   "execution_count": 11,
   "id": "7dded1b0-77c5-4421-8be9-2c13b4c7bc4f",
   "metadata": {},
   "outputs": [
    {
     "name": "stdout",
     "output_type": "stream",
     "text": [
      "120\n"
     ]
    }
   ],
   "source": [
    "print(fact(5))"
   ]
  },
  {
   "cell_type": "code",
   "execution_count": 23,
   "id": "63c6c30e-b294-4d98-9479-19f4a5961665",
   "metadata": {},
   "outputs": [
    {
     "name": "stdout",
     "output_type": "stream",
     "text": [
      "55\n"
     ]
    }
   ],
   "source": [
    "def fibonacci(n):\n",
    "    if n == 0:\n",
    "        return 0\n",
    "    elif n == 1:\n",
    "        return 1\n",
    "    else:\n",
    "        return fibonacci(n-1) + fibonacci(n-2)\n",
    "\n",
    "print(fibonacci(10))\n",
    "        \n",
    "                 "
   ]
  },
  {
   "cell_type": "code",
   "execution_count": 27,
   "id": "a00adc5b-1fb0-40cd-9490-62a7d6f3d17a",
   "metadata": {},
   "outputs": [
    {
     "name": "stdout",
     "output_type": "stream",
     "text": [
      "the youngest child is linus\n"
     ]
    }
   ],
   "source": [
    "# argument*\n",
    "def my_function(*kids):\n",
    "    print(\"the youngest child is \" + kids[2])\n",
    "\n",
    "my_function(\"emil\",\"tobias\",\"linus\")"
   ]
  },
  {
   "cell_type": "code",
   "execution_count": 29,
   "id": "ca565ad5-6ac9-45aa-9241-72e50d30a18d",
   "metadata": {},
   "outputs": [
    {
     "name": "stdout",
     "output_type": "stream",
     "text": [
      "the youngest child is linus\n"
     ]
    }
   ],
   "source": [
    "def my_function(child3, child2, child1):\n",
    "    print(\"the youngest child is \" + child3)\n",
    "\n",
    "my_function(child1 = \"emil\", child2 = \"tobias\", child3 = \"linus\")"
   ]
  },
  {
   "cell_type": "code",
   "execution_count": 35,
   "id": "0c33d8da-bb5f-425d-8bf9-088b59e08336",
   "metadata": {},
   "outputs": [
    {
     "name": "stdout",
     "output_type": "stream",
     "text": [
      "his last name is refsnes\n"
     ]
    }
   ],
   "source": [
    "def my_function(**kid):\n",
    "    print(\"his last name is \" + kid[\"lname\"])\n",
    "\n",
    "my_function(fname = \"tobias\", lname = \"refsnes\")"
   ]
  },
  {
   "cell_type": "code",
   "execution_count": 41,
   "id": "c4e879fd-9639-4918-9e70-1c56d1ad2911",
   "metadata": {},
   "outputs": [
    {
     "name": "stdout",
     "output_type": "stream",
     "text": [
      "5\n",
      "25\n"
     ]
    }
   ],
   "source": [
    "x = min(5, 10, 25)\n",
    "y = max(5, 10, 25)\n",
    "print(x)\n",
    "print(y)"
   ]
  },
  {
   "cell_type": "code",
   "execution_count": 43,
   "id": "ea36cb1f-82af-4436-a308-7d802bc1e7d4",
   "metadata": {},
   "outputs": [
    {
     "name": "stdout",
     "output_type": "stream",
     "text": [
      "7.25\n"
     ]
    }
   ],
   "source": [
    "x = abs(-7.25)\n",
    "print(x)"
   ]
  },
  {
   "cell_type": "code",
   "execution_count": 47,
   "id": "27789835-c4f1-4bde-a6c9-6dfc5f36683f",
   "metadata": {},
   "outputs": [
    {
     "name": "stdout",
     "output_type": "stream",
     "text": [
      "8.0\n"
     ]
    }
   ],
   "source": [
    "import math\n",
    "x = math.sqrt(64)\n",
    "print(x)"
   ]
  },
  {
   "cell_type": "code",
   "execution_count": null,
   "id": "178da831-0090-40ae-b5c4-b2df4a02a0b4",
   "metadata": {},
   "outputs": [],
   "source": [
    "import math \n",
    "x = math.cell"
   ]
  }
 ],
 "metadata": {
  "kernelspec": {
   "display_name": "Python [conda env:base] *",
   "language": "python",
   "name": "conda-base-py"
  },
  "language_info": {
   "codemirror_mode": {
    "name": "ipython",
    "version": 3
   },
   "file_extension": ".py",
   "mimetype": "text/x-python",
   "name": "python",
   "nbconvert_exporter": "python",
   "pygments_lexer": "ipython3",
   "version": "3.12.7"
  }
 },
 "nbformat": 4,
 "nbformat_minor": 5
}
