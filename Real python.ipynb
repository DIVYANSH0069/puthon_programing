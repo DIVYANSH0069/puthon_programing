{
 "cells": [
  {
   "cell_type": "code",
   "execution_count": 15,
   "id": "b4472837-a375-4586-9556-4726fee1dcc9",
   "metadata": {},
   "outputs": [
    {
     "data": {
      "text/plain": [
       "{'name': ['Xavier', 'Ann', 'Jana', 'Yi', 'Robin', 'Amal', 'Nori'],\n",
       " 'city': ['Mexico City',\n",
       "  'Toronto',\n",
       "  'Prague',\n",
       "  'Shanghai',\n",
       "  'Manchester',\n",
       "  'Cairo',\n",
       "  'Osaka'],\n",
       " 'age': [41, 28, 33, 34, 38, 31, 37],\n",
       " 'py-score': [88.0, 79.0, 81.0, 80.0, 68.0, 61.0, 84.0]}"
      ]
     },
     "execution_count": 15,
     "metadata": {},
     "output_type": "execute_result"
    }
   ],
   "source": [
    "#Real python\n",
    "import pandas as pd\n",
    "data = {'name': ['Xavier', 'Ann', 'Jana', 'Yi', 'Robin', 'Amal', 'Nori'],\n",
    "        'city': ['Mexico City', 'Toronto', 'Prague', 'Shanghai',\n",
    "              'Manchester', 'Cairo', 'Osaka'],\n",
    "        'age': [41, 28, 33, 34, 38, 31, 37],\n",
    "        'py-score': [88.0, 79.0, 81.0, 80.0, 68.0, 61.0, 84.0]}\n",
    "\n",
    "row_labels = [101, 102, 103, 104, 105, 106, 107]\n",
    "data"
   ]
  },
  {
   "cell_type": "code",
   "execution_count": 27,
   "id": "29697e45-860e-4e61-8512-478ff53bb4d8",
   "metadata": {},
   "outputs": [
    {
     "data": {
      "text/html": [
       "<div>\n",
       "<style scoped>\n",
       "    .dataframe tbody tr th:only-of-type {\n",
       "        vertical-align: middle;\n",
       "    }\n",
       "\n",
       "    .dataframe tbody tr th {\n",
       "        vertical-align: top;\n",
       "    }\n",
       "\n",
       "    .dataframe thead th {\n",
       "        text-align: right;\n",
       "    }\n",
       "</style>\n",
       "<table border=\"1\" class=\"dataframe\">\n",
       "  <thead>\n",
       "    <tr style=\"text-align: right;\">\n",
       "      <th></th>\n",
       "      <th>name</th>\n",
       "      <th>city</th>\n",
       "      <th>age</th>\n",
       "      <th>py-score</th>\n",
       "    </tr>\n",
       "  </thead>\n",
       "  <tbody>\n",
       "    <tr>\n",
       "      <th>101</th>\n",
       "      <td>Xavier</td>\n",
       "      <td>Mexico City</td>\n",
       "      <td>41</td>\n",
       "      <td>88.0</td>\n",
       "    </tr>\n",
       "    <tr>\n",
       "      <th>102</th>\n",
       "      <td>Ann</td>\n",
       "      <td>Toronto</td>\n",
       "      <td>28</td>\n",
       "      <td>79.0</td>\n",
       "    </tr>\n",
       "    <tr>\n",
       "      <th>103</th>\n",
       "      <td>Jana</td>\n",
       "      <td>Prague</td>\n",
       "      <td>33</td>\n",
       "      <td>81.0</td>\n",
       "    </tr>\n",
       "    <tr>\n",
       "      <th>104</th>\n",
       "      <td>Yi</td>\n",
       "      <td>Shanghai</td>\n",
       "      <td>34</td>\n",
       "      <td>80.0</td>\n",
       "    </tr>\n",
       "    <tr>\n",
       "      <th>105</th>\n",
       "      <td>Robin</td>\n",
       "      <td>Manchester</td>\n",
       "      <td>38</td>\n",
       "      <td>68.0</td>\n",
       "    </tr>\n",
       "    <tr>\n",
       "      <th>106</th>\n",
       "      <td>Amal</td>\n",
       "      <td>Cairo</td>\n",
       "      <td>31</td>\n",
       "      <td>61.0</td>\n",
       "    </tr>\n",
       "    <tr>\n",
       "      <th>107</th>\n",
       "      <td>Nori</td>\n",
       "      <td>Osaka</td>\n",
       "      <td>37</td>\n",
       "      <td>84.0</td>\n",
       "    </tr>\n",
       "  </tbody>\n",
       "</table>\n",
       "</div>"
      ],
      "text/plain": [
       "       name         city  age  py-score\n",
       "101  Xavier  Mexico City   41      88.0\n",
       "102     Ann      Toronto   28      79.0\n",
       "103    Jana       Prague   33      81.0\n",
       "104      Yi     Shanghai   34      80.0\n",
       "105   Robin   Manchester   38      68.0\n",
       "106    Amal        Cairo   31      61.0\n",
       "107    Nori        Osaka   37      84.0"
      ]
     },
     "execution_count": 27,
     "metadata": {},
     "output_type": "execute_result"
    }
   ],
   "source": [
    "df = pd.DataFrame(data=data, index=row_labels)\n",
    "df"
   ]
  },
  {
   "cell_type": "code",
   "execution_count": 31,
   "id": "149a47d2-01cc-4512-aacb-96d3c714fc3e",
   "metadata": {},
   "outputs": [
    {
     "data": {
      "text/html": [
       "<div>\n",
       "<style scoped>\n",
       "    .dataframe tbody tr th:only-of-type {\n",
       "        vertical-align: middle;\n",
       "    }\n",
       "\n",
       "    .dataframe tbody tr th {\n",
       "        vertical-align: top;\n",
       "    }\n",
       "\n",
       "    .dataframe thead th {\n",
       "        text-align: right;\n",
       "    }\n",
       "</style>\n",
       "<table border=\"1\" class=\"dataframe\">\n",
       "  <thead>\n",
       "    <tr style=\"text-align: right;\">\n",
       "      <th></th>\n",
       "      <th>name</th>\n",
       "      <th>city</th>\n",
       "      <th>age</th>\n",
       "      <th>py-score</th>\n",
       "    </tr>\n",
       "  </thead>\n",
       "  <tbody>\n",
       "    <tr>\n",
       "      <th>101</th>\n",
       "      <td>Xavier</td>\n",
       "      <td>Mexico City</td>\n",
       "      <td>41</td>\n",
       "      <td>88.0</td>\n",
       "    </tr>\n",
       "    <tr>\n",
       "      <th>102</th>\n",
       "      <td>Ann</td>\n",
       "      <td>Toronto</td>\n",
       "      <td>28</td>\n",
       "      <td>79.0</td>\n",
       "    </tr>\n",
       "  </tbody>\n",
       "</table>\n",
       "</div>"
      ],
      "text/plain": [
       "       name         city  age  py-score\n",
       "101  Xavier  Mexico City   41      88.0\n",
       "102     Ann      Toronto   28      79.0"
      ]
     },
     "execution_count": 31,
     "metadata": {},
     "output_type": "execute_result"
    }
   ],
   "source": [
    "df.head(n=2)"
   ]
  },
  {
   "cell_type": "code",
   "execution_count": 33,
   "id": "e490e16f-5164-477e-bc64-b71c481daf8d",
   "metadata": {},
   "outputs": [
    {
     "data": {
      "text/html": [
       "<div>\n",
       "<style scoped>\n",
       "    .dataframe tbody tr th:only-of-type {\n",
       "        vertical-align: middle;\n",
       "    }\n",
       "\n",
       "    .dataframe tbody tr th {\n",
       "        vertical-align: top;\n",
       "    }\n",
       "\n",
       "    .dataframe thead th {\n",
       "        text-align: right;\n",
       "    }\n",
       "</style>\n",
       "<table border=\"1\" class=\"dataframe\">\n",
       "  <thead>\n",
       "    <tr style=\"text-align: right;\">\n",
       "      <th></th>\n",
       "      <th>name</th>\n",
       "      <th>city</th>\n",
       "      <th>age</th>\n",
       "      <th>py-score</th>\n",
       "    </tr>\n",
       "  </thead>\n",
       "  <tbody>\n",
       "    <tr>\n",
       "      <th>106</th>\n",
       "      <td>Amal</td>\n",
       "      <td>Cairo</td>\n",
       "      <td>31</td>\n",
       "      <td>61.0</td>\n",
       "    </tr>\n",
       "    <tr>\n",
       "      <th>107</th>\n",
       "      <td>Nori</td>\n",
       "      <td>Osaka</td>\n",
       "      <td>37</td>\n",
       "      <td>84.0</td>\n",
       "    </tr>\n",
       "  </tbody>\n",
       "</table>\n",
       "</div>"
      ],
      "text/plain": [
       "     name   city  age  py-score\n",
       "106  Amal  Cairo   31      61.0\n",
       "107  Nori  Osaka   37      84.0"
      ]
     },
     "execution_count": 33,
     "metadata": {},
     "output_type": "execute_result"
    }
   ],
   "source": [
    "df.tail(n=2)"
   ]
  },
  {
   "cell_type": "code",
   "execution_count": 37,
   "id": "9bf4ed98-3265-476f-a1f5-2ff9e9ac24b7",
   "metadata": {},
   "outputs": [
    {
     "data": {
      "text/plain": [
       "101    Mexico City\n",
       "102        Toronto\n",
       "103         Prague\n",
       "104       Shanghai\n",
       "105     Manchester\n",
       "106          Cairo\n",
       "107          Osaka\n",
       "Name: city, dtype: object"
      ]
     },
     "execution_count": 37,
     "metadata": {},
     "output_type": "execute_result"
    }
   ],
   "source": [
    "cities= df['city']\n",
    "cities"
   ]
  },
  {
   "cell_type": "code",
   "execution_count": 39,
   "id": "464c5884-a543-4c81-aa38-90d87c24892a",
   "metadata": {},
   "outputs": [
    {
     "data": {
      "text/plain": [
       "name          Jana\n",
       "city        Prague\n",
       "age             33\n",
       "py-score      81.0\n",
       "Name: 103, dtype: object"
      ]
     },
     "execution_count": 39,
     "metadata": {},
     "output_type": "execute_result"
    }
   ],
   "source": [
    "df.loc[103]"
   ]
  },
  {
   "cell_type": "code",
   "execution_count": 7,
   "id": "f1074810-cb53-441a-8789-2ef801e524f1",
   "metadata": {},
   "outputs": [
    {
     "data": {
      "text/html": [
       "<div>\n",
       "<style scoped>\n",
       "    .dataframe tbody tr th:only-of-type {\n",
       "        vertical-align: middle;\n",
       "    }\n",
       "\n",
       "    .dataframe tbody tr th {\n",
       "        vertical-align: top;\n",
       "    }\n",
       "\n",
       "    .dataframe thead th {\n",
       "        text-align: right;\n",
       "    }\n",
       "</style>\n",
       "<table border=\"1\" class=\"dataframe\">\n",
       "  <thead>\n",
       "    <tr style=\"text-align: right;\">\n",
       "      <th></th>\n",
       "      <th>x</th>\n",
       "      <th>y</th>\n",
       "      <th>z</th>\n",
       "    </tr>\n",
       "  </thead>\n",
       "  <tbody>\n",
       "    <tr>\n",
       "      <th>0</th>\n",
       "      <td>1</td>\n",
       "      <td>2</td>\n",
       "      <td>100</td>\n",
       "    </tr>\n",
       "    <tr>\n",
       "      <th>1</th>\n",
       "      <td>2</td>\n",
       "      <td>4</td>\n",
       "      <td>100</td>\n",
       "    </tr>\n",
       "    <tr>\n",
       "      <th>2</th>\n",
       "      <td>3</td>\n",
       "      <td>8</td>\n",
       "      <td>100</td>\n",
       "    </tr>\n",
       "  </tbody>\n",
       "</table>\n",
       "</div>"
      ],
      "text/plain": [
       "   x  y    z\n",
       "0  1  2  100\n",
       "1  2  4  100\n",
       "2  3  8  100"
      ]
     },
     "execution_count": 7,
     "metadata": {},
     "output_type": "execute_result"
    }
   ],
   "source": [
    "import numpy as np\n",
    "import pandas as pd\n",
    "d = {'x': [1, 2, 3], 'y': np.array([2, 4, 8]), 'z': 100}\n",
    "pd.DataFrame(d)"
   ]
  },
  {
   "cell_type": "code",
   "execution_count": 9,
   "id": "9371df31-3459-4dcb-8561-146a194b2a64",
   "metadata": {},
   "outputs": [
    {
     "data": {
      "text/html": [
       "<div>\n",
       "<style scoped>\n",
       "    .dataframe tbody tr th:only-of-type {\n",
       "        vertical-align: middle;\n",
       "    }\n",
       "\n",
       "    .dataframe tbody tr th {\n",
       "        vertical-align: top;\n",
       "    }\n",
       "\n",
       "    .dataframe thead th {\n",
       "        text-align: right;\n",
       "    }\n",
       "</style>\n",
       "<table border=\"1\" class=\"dataframe\">\n",
       "  <thead>\n",
       "    <tr style=\"text-align: right;\">\n",
       "      <th></th>\n",
       "      <th>z</th>\n",
       "      <th>y</th>\n",
       "      <th>x</th>\n",
       "    </tr>\n",
       "  </thead>\n",
       "  <tbody>\n",
       "    <tr>\n",
       "      <th>100</th>\n",
       "      <td>100</td>\n",
       "      <td>2</td>\n",
       "      <td>1</td>\n",
       "    </tr>\n",
       "    <tr>\n",
       "      <th>200</th>\n",
       "      <td>100</td>\n",
       "      <td>4</td>\n",
       "      <td>2</td>\n",
       "    </tr>\n",
       "    <tr>\n",
       "      <th>300</th>\n",
       "      <td>100</td>\n",
       "      <td>8</td>\n",
       "      <td>3</td>\n",
       "    </tr>\n",
       "  </tbody>\n",
       "</table>\n",
       "</div>"
      ],
      "text/plain": [
       "       z  y  x\n",
       "100  100  2  1\n",
       "200  100  4  2\n",
       "300  100  8  3"
      ]
     },
     "execution_count": 9,
     "metadata": {},
     "output_type": "execute_result"
    }
   ],
   "source": [
    "pd.DataFrame(d, index=[100, 200, 300], columns=['z', 'y', 'x'])"
   ]
  },
  {
   "cell_type": "code",
   "execution_count": 25,
   "id": "bbe5501f-b48c-4de0-a528-1bd06ce59448",
   "metadata": {},
   "outputs": [
    {
     "data": {
      "text/html": [
       "<div>\n",
       "<style scoped>\n",
       "    .dataframe tbody tr th:only-of-type {\n",
       "        vertical-align: middle;\n",
       "    }\n",
       "\n",
       "    .dataframe tbody tr th {\n",
       "        vertical-align: top;\n",
       "    }\n",
       "\n",
       "    .dataframe thead th {\n",
       "        text-align: right;\n",
       "    }\n",
       "</style>\n",
       "<table border=\"1\" class=\"dataframe\">\n",
       "  <thead>\n",
       "    <tr style=\"text-align: right;\">\n",
       "      <th></th>\n",
       "      <th>x</th>\n",
       "      <th>y</th>\n",
       "      <th>z</th>\n",
       "    </tr>\n",
       "  </thead>\n",
       "  <tbody>\n",
       "    <tr>\n",
       "      <th>0</th>\n",
       "      <td>1</td>\n",
       "      <td>2</td>\n",
       "      <td>100</td>\n",
       "    </tr>\n",
       "    <tr>\n",
       "      <th>1</th>\n",
       "      <td>2</td>\n",
       "      <td>4</td>\n",
       "      <td>100</td>\n",
       "    </tr>\n",
       "    <tr>\n",
       "      <th>2</th>\n",
       "      <td>3</td>\n",
       "      <td>8</td>\n",
       "      <td>100</td>\n",
       "    </tr>\n",
       "  </tbody>\n",
       "</table>\n",
       "</div>"
      ],
      "text/plain": [
       "   x  y    z\n",
       "0  1  2  100\n",
       "1  2  4  100\n",
       "2  3  8  100"
      ]
     },
     "execution_count": 25,
     "metadata": {},
     "output_type": "execute_result"
    }
   ],
   "source": [
    "l= [{'x': 1, 'y': 2, 'z': 100},\n",
    "     {'x': 2, 'y': 4, 'z': 100},\n",
    "     {'x': 3, 'y': 8, 'z': 100}]\n",
    "\n",
    "pd.DataFrame(l, columns=['x', 'y', 'z'])"
   ]
  },
  {
   "cell_type": "code",
   "execution_count": 27,
   "id": "41a04f88-1fa3-43e6-82f6-4c6c21cda7a3",
   "metadata": {},
   "outputs": [
    {
     "data": {
      "text/html": [
       "<div>\n",
       "<style scoped>\n",
       "    .dataframe tbody tr th:only-of-type {\n",
       "        vertical-align: middle;\n",
       "    }\n",
       "\n",
       "    .dataframe tbody tr th {\n",
       "        vertical-align: top;\n",
       "    }\n",
       "\n",
       "    .dataframe thead th {\n",
       "        text-align: right;\n",
       "    }\n",
       "</style>\n",
       "<table border=\"1\" class=\"dataframe\">\n",
       "  <thead>\n",
       "    <tr style=\"text-align: right;\">\n",
       "      <th></th>\n",
       "      <th>x</th>\n",
       "      <th>y</th>\n",
       "      <th>z</th>\n",
       "    </tr>\n",
       "  </thead>\n",
       "  <tbody>\n",
       "    <tr>\n",
       "      <th>0</th>\n",
       "      <td>1</td>\n",
       "      <td>2</td>\n",
       "      <td>100</td>\n",
       "    </tr>\n",
       "    <tr>\n",
       "      <th>1</th>\n",
       "      <td>2</td>\n",
       "      <td>4</td>\n",
       "      <td>100</td>\n",
       "    </tr>\n",
       "    <tr>\n",
       "      <th>2</th>\n",
       "      <td>3</td>\n",
       "      <td>8</td>\n",
       "      <td>100</td>\n",
       "    </tr>\n",
       "  </tbody>\n",
       "</table>\n",
       "</div>"
      ],
      "text/plain": [
       "   x  y    z\n",
       "0  1  2  100\n",
       "1  2  4  100\n",
       "2  3  8  100"
      ]
     },
     "execution_count": 27,
     "metadata": {},
     "output_type": "execute_result"
    }
   ],
   "source": [
    "l = [[1, 2, 100],\n",
    "     [2, 4, 100],\n",
    "     [3, 8, 100]]\n",
    "\n",
    "pd.DataFrame(l, columns=['x', 'y', 'z'])"
   ]
  },
  {
   "cell_type": "code",
   "execution_count": 36,
   "id": "50fbc2c1-e0ea-4935-8639-305aa4d8cd76",
   "metadata": {},
   "outputs": [
    {
     "data": {
      "text/html": [
       "<div>\n",
       "<style scoped>\n",
       "    .dataframe tbody tr th:only-of-type {\n",
       "        vertical-align: middle;\n",
       "    }\n",
       "\n",
       "    .dataframe tbody tr th {\n",
       "        vertical-align: top;\n",
       "    }\n",
       "\n",
       "    .dataframe thead th {\n",
       "        text-align: right;\n",
       "    }\n",
       "</style>\n",
       "<table border=\"1\" class=\"dataframe\">\n",
       "  <thead>\n",
       "    <tr style=\"text-align: right;\">\n",
       "      <th></th>\n",
       "      <th>x</th>\n",
       "      <th>y</th>\n",
       "      <th>z</th>\n",
       "    </tr>\n",
       "  </thead>\n",
       "  <tbody>\n",
       "    <tr>\n",
       "      <th>0</th>\n",
       "      <td>1</td>\n",
       "      <td>2</td>\n",
       "      <td>100</td>\n",
       "    </tr>\n",
       "    <tr>\n",
       "      <th>1</th>\n",
       "      <td>2</td>\n",
       "      <td>4</td>\n",
       "      <td>100</td>\n",
       "    </tr>\n",
       "    <tr>\n",
       "      <th>2</th>\n",
       "      <td>3</td>\n",
       "      <td>8</td>\n",
       "      <td>100</td>\n",
       "    </tr>\n",
       "  </tbody>\n",
       "</table>\n",
       "</div>"
      ],
      "text/plain": [
       "   x  y    z\n",
       "0  1  2  100\n",
       "1  2  4  100\n",
       "2  3  8  100"
      ]
     },
     "execution_count": 36,
     "metadata": {},
     "output_type": "execute_result"
    }
   ],
   "source": [
    "arr = np.array([[1, 2, 100],\n",
    "              [2, 4, 100],\n",
    "              [3, 8, 100]])\n",
    "\n",
    "df = pd.DataFrame(arr, columns=['x','y','z'])\n",
    "df"
   ]
  },
  {
   "cell_type": "code",
   "execution_count": 38,
   "id": "3c5136f8-57b7-4d29-ae5a-44b0b2d5c972",
   "metadata": {},
   "outputs": [
    {
     "data": {
      "text/html": [
       "<div>\n",
       "<style scoped>\n",
       "    .dataframe tbody tr th:only-of-type {\n",
       "        vertical-align: middle;\n",
       "    }\n",
       "\n",
       "    .dataframe tbody tr th {\n",
       "        vertical-align: top;\n",
       "    }\n",
       "\n",
       "    .dataframe thead th {\n",
       "        text-align: right;\n",
       "    }\n",
       "</style>\n",
       "<table border=\"1\" class=\"dataframe\">\n",
       "  <thead>\n",
       "    <tr style=\"text-align: right;\">\n",
       "      <th></th>\n",
       "      <th>x</th>\n",
       "      <th>y</th>\n",
       "      <th>z</th>\n",
       "    </tr>\n",
       "  </thead>\n",
       "  <tbody>\n",
       "    <tr>\n",
       "      <th>0</th>\n",
       "      <td>1000</td>\n",
       "      <td>2</td>\n",
       "      <td>100</td>\n",
       "    </tr>\n",
       "    <tr>\n",
       "      <th>1</th>\n",
       "      <td>2</td>\n",
       "      <td>4</td>\n",
       "      <td>100</td>\n",
       "    </tr>\n",
       "    <tr>\n",
       "      <th>2</th>\n",
       "      <td>3</td>\n",
       "      <td>8</td>\n",
       "      <td>100</td>\n",
       "    </tr>\n",
       "  </tbody>\n",
       "</table>\n",
       "</div>"
      ],
      "text/plain": [
       "      x  y    z\n",
       "0  1000  2  100\n",
       "1     2  4  100\n",
       "2     3  8  100"
      ]
     },
     "execution_count": 38,
     "metadata": {},
     "output_type": "execute_result"
    }
   ],
   "source": [
    "arr[0, 0] = 1000\n",
    "\n",
    "df"
   ]
  },
  {
   "cell_type": "code",
   "execution_count": 40,
   "id": "976390fb-f96b-4a62-ba0b-c3a1a2993a08",
   "metadata": {},
   "outputs": [
    {
     "data": {
      "text/html": [
       "<div>\n",
       "<style scoped>\n",
       "    .dataframe tbody tr th:only-of-type {\n",
       "        vertical-align: middle;\n",
       "    }\n",
       "\n",
       "    .dataframe tbody tr th {\n",
       "        vertical-align: top;\n",
       "    }\n",
       "\n",
       "    .dataframe thead th {\n",
       "        text-align: right;\n",
       "    }\n",
       "</style>\n",
       "<table border=\"1\" class=\"dataframe\">\n",
       "  <thead>\n",
       "    <tr style=\"text-align: right;\">\n",
       "      <th></th>\n",
       "      <th>Duration</th>\n",
       "      <th>Pulse</th>\n",
       "      <th>Maxpulse</th>\n",
       "      <th>Calories</th>\n",
       "    </tr>\n",
       "  </thead>\n",
       "  <tbody>\n",
       "    <tr>\n",
       "      <th>0</th>\n",
       "      <td>60</td>\n",
       "      <td>110</td>\n",
       "      <td>130</td>\n",
       "      <td>409.1</td>\n",
       "    </tr>\n",
       "    <tr>\n",
       "      <th>1</th>\n",
       "      <td>60</td>\n",
       "      <td>117</td>\n",
       "      <td>145</td>\n",
       "      <td>479.0</td>\n",
       "    </tr>\n",
       "    <tr>\n",
       "      <th>2</th>\n",
       "      <td>60</td>\n",
       "      <td>103</td>\n",
       "      <td>135</td>\n",
       "      <td>340.0</td>\n",
       "    </tr>\n",
       "    <tr>\n",
       "      <th>3</th>\n",
       "      <td>45</td>\n",
       "      <td>109</td>\n",
       "      <td>175</td>\n",
       "      <td>282.4</td>\n",
       "    </tr>\n",
       "    <tr>\n",
       "      <th>4</th>\n",
       "      <td>45</td>\n",
       "      <td>117</td>\n",
       "      <td>148</td>\n",
       "      <td>406.0</td>\n",
       "    </tr>\n",
       "    <tr>\n",
       "      <th>...</th>\n",
       "      <td>...</td>\n",
       "      <td>...</td>\n",
       "      <td>...</td>\n",
       "      <td>...</td>\n",
       "    </tr>\n",
       "    <tr>\n",
       "      <th>164</th>\n",
       "      <td>60</td>\n",
       "      <td>105</td>\n",
       "      <td>140</td>\n",
       "      <td>290.8</td>\n",
       "    </tr>\n",
       "    <tr>\n",
       "      <th>165</th>\n",
       "      <td>60</td>\n",
       "      <td>110</td>\n",
       "      <td>145</td>\n",
       "      <td>300.0</td>\n",
       "    </tr>\n",
       "    <tr>\n",
       "      <th>166</th>\n",
       "      <td>60</td>\n",
       "      <td>115</td>\n",
       "      <td>145</td>\n",
       "      <td>310.2</td>\n",
       "    </tr>\n",
       "    <tr>\n",
       "      <th>167</th>\n",
       "      <td>75</td>\n",
       "      <td>120</td>\n",
       "      <td>150</td>\n",
       "      <td>320.4</td>\n",
       "    </tr>\n",
       "    <tr>\n",
       "      <th>168</th>\n",
       "      <td>75</td>\n",
       "      <td>125</td>\n",
       "      <td>150</td>\n",
       "      <td>330.4</td>\n",
       "    </tr>\n",
       "  </tbody>\n",
       "</table>\n",
       "<p>169 rows × 4 columns</p>\n",
       "</div>"
      ],
      "text/plain": [
       "     Duration  Pulse  Maxpulse  Calories\n",
       "0          60    110       130     409.1\n",
       "1          60    117       145     479.0\n",
       "2          60    103       135     340.0\n",
       "3          45    109       175     282.4\n",
       "4          45    117       148     406.0\n",
       "..        ...    ...       ...       ...\n",
       "164        60    105       140     290.8\n",
       "165        60    110       145     300.0\n",
       "166        60    115       145     310.2\n",
       "167        75    120       150     320.4\n",
       "168        75    125       150     330.4\n",
       "\n",
       "[169 rows x 4 columns]"
      ]
     },
     "execution_count": 40,
     "metadata": {},
     "output_type": "execute_result"
    }
   ],
   "source": [
    "df1=pd.read_csv(\"data health.csv\")\n",
    "df1"
   ]
  },
  {
   "cell_type": "code",
   "execution_count": 46,
   "id": "bf7ffbfe-3732-4731-b9fe-fbbbafeb8fd2",
   "metadata": {},
   "outputs": [
    {
     "data": {
      "text/plain": [
       "RangeIndex(start=0, stop=169, step=1)"
      ]
     },
     "execution_count": 46,
     "metadata": {},
     "output_type": "execute_result"
    }
   ],
   "source": [
    "df1.index\n"
   ]
  },
  {
   "cell_type": "code",
   "execution_count": 50,
   "id": "1509bb0e-f077-491c-94d3-efc0294cebbc",
   "metadata": {},
   "outputs": [
    {
     "data": {
      "text/plain": [
       "Index(['Duration', 'Pulse', 'Maxpulse', 'Calories'], dtype='object')"
      ]
     },
     "execution_count": 50,
     "metadata": {},
     "output_type": "execute_result"
    }
   ],
   "source": [
    "df1.columns"
   ]
  },
  {
   "cell_type": "code",
   "execution_count": 54,
   "id": "a43e67cc-6457-4c23-8883-8f87fbc89804",
   "metadata": {},
   "outputs": [
    {
     "data": {
      "text/plain": [
       "array([[  60. ,  110. ,  130. ,  409.1],\n",
       "       [  60. ,  117. ,  145. ,  479. ],\n",
       "       [  60. ,  103. ,  135. ,  340. ],\n",
       "       [  45. ,  109. ,  175. ,  282.4],\n",
       "       [  45. ,  117. ,  148. ,  406. ],\n",
       "       [  60. ,  102. ,  127. ,  300. ],\n",
       "       [  60. ,  110. ,  136. ,  374. ],\n",
       "       [  45. ,  104. ,  134. ,  253.3],\n",
       "       [  30. ,  109. ,  133. ,  195.1],\n",
       "       [  60. ,   98. ,  124. ,  269. ],\n",
       "       [  60. ,  103. ,  147. ,  329.3],\n",
       "       [  60. ,  100. ,  120. ,  250.7],\n",
       "       [  60. ,  106. ,  128. ,  345.3],\n",
       "       [  60. ,  104. ,  132. ,  379.3],\n",
       "       [  60. ,   98. ,  123. ,  275. ],\n",
       "       [  60. ,   98. ,  120. ,  215.2],\n",
       "       [  60. ,  100. ,  120. ,  300. ],\n",
       "       [  45. ,   90. ,  112. ,    nan],\n",
       "       [  60. ,  103. ,  123. ,  323. ],\n",
       "       [  45. ,   97. ,  125. ,  243. ],\n",
       "       [  60. ,  108. ,  131. ,  364.2],\n",
       "       [  45. ,  100. ,  119. ,  282. ],\n",
       "       [  60. ,  130. ,  101. ,  300. ],\n",
       "       [  45. ,  105. ,  132. ,  246. ],\n",
       "       [  60. ,  102. ,  126. ,  334.5],\n",
       "       [  60. ,  100. ,  120. ,  250. ],\n",
       "       [  60. ,   92. ,  118. ,  241. ],\n",
       "       [  60. ,  103. ,  132. ,    nan],\n",
       "       [  60. ,  100. ,  132. ,  280. ],\n",
       "       [  60. ,  102. ,  129. ,  380.3],\n",
       "       [  60. ,   92. ,  115. ,  243. ],\n",
       "       [  45. ,   90. ,  112. ,  180.1],\n",
       "       [  60. ,  101. ,  124. ,  299. ],\n",
       "       [  60. ,   93. ,  113. ,  223. ],\n",
       "       [  60. ,  107. ,  136. ,  361. ],\n",
       "       [  60. ,  114. ,  140. ,  415. ],\n",
       "       [  60. ,  102. ,  127. ,  300. ],\n",
       "       [  60. ,  100. ,  120. ,  300. ],\n",
       "       [  60. ,  100. ,  120. ,  300. ],\n",
       "       [  45. ,  104. ,  129. ,  266. ],\n",
       "       [  45. ,   90. ,  112. ,  180.1],\n",
       "       [  60. ,   98. ,  126. ,  286. ],\n",
       "       [  60. ,  100. ,  122. ,  329.4],\n",
       "       [  60. ,  111. ,  138. ,  400. ],\n",
       "       [  60. ,  111. ,  131. ,  397. ],\n",
       "       [  60. ,   99. ,  119. ,  273. ],\n",
       "       [  60. ,  109. ,  153. ,  387.6],\n",
       "       [  45. ,  111. ,  136. ,  300. ],\n",
       "       [  45. ,  108. ,  129. ,  298. ],\n",
       "       [  60. ,  111. ,  139. ,  397.6],\n",
       "       [  60. ,  107. ,  136. ,  380.2],\n",
       "       [  80. ,  123. ,  146. ,  643.1],\n",
       "       [  60. ,  106. ,  130. ,  263. ],\n",
       "       [  60. ,  118. ,  151. ,  486. ],\n",
       "       [  30. ,  136. ,  175. ,  238. ],\n",
       "       [  60. ,  121. ,  146. ,  450.7],\n",
       "       [  60. ,  118. ,  121. ,  413. ],\n",
       "       [  45. ,  115. ,  144. ,  305. ],\n",
       "       [  20. ,  153. ,  172. ,  226.4],\n",
       "       [  45. ,  123. ,  152. ,  321. ],\n",
       "       [ 210. ,  108. ,  160. , 1376. ],\n",
       "       [ 160. ,  110. ,  137. , 1034.4],\n",
       "       [ 160. ,  109. ,  135. ,  853. ],\n",
       "       [  45. ,  118. ,  141. ,  341. ],\n",
       "       [  20. ,  110. ,  130. ,  131.4],\n",
       "       [ 180. ,   90. ,  130. ,  800.4],\n",
       "       [ 150. ,  105. ,  135. ,  873.4],\n",
       "       [ 150. ,  107. ,  130. ,  816. ],\n",
       "       [  20. ,  106. ,  136. ,  110.4],\n",
       "       [ 300. ,  108. ,  143. , 1500.2],\n",
       "       [ 150. ,   97. ,  129. , 1115. ],\n",
       "       [  60. ,  109. ,  153. ,  387.6],\n",
       "       [  90. ,  100. ,  127. ,  700. ],\n",
       "       [ 150. ,   97. ,  127. ,  953.2],\n",
       "       [  45. ,  114. ,  146. ,  304. ],\n",
       "       [  90. ,   98. ,  125. ,  563.2],\n",
       "       [  45. ,  105. ,  134. ,  251. ],\n",
       "       [  45. ,  110. ,  141. ,  300. ],\n",
       "       [ 120. ,  100. ,  130. ,  500.4],\n",
       "       [ 270. ,  100. ,  131. , 1729. ],\n",
       "       [  30. ,  159. ,  182. ,  319.2],\n",
       "       [  45. ,  149. ,  169. ,  344. ],\n",
       "       [  30. ,  103. ,  139. ,  151.1],\n",
       "       [ 120. ,  100. ,  130. ,  500. ],\n",
       "       [  45. ,  100. ,  120. ,  225.3],\n",
       "       [  30. ,  151. ,  170. ,  300. ],\n",
       "       [  45. ,  102. ,  136. ,  234. ],\n",
       "       [ 120. ,  100. ,  157. , 1000.1],\n",
       "       [  45. ,  129. ,  103. ,  242. ],\n",
       "       [  20. ,   83. ,  107. ,   50.3],\n",
       "       [ 180. ,  101. ,  127. ,  600.1],\n",
       "       [  45. ,  107. ,  137. ,    nan],\n",
       "       [  30. ,   90. ,  107. ,  105.3],\n",
       "       [  15. ,   80. ,  100. ,   50.5],\n",
       "       [  20. ,  150. ,  171. ,  127.4],\n",
       "       [  20. ,  151. ,  168. ,  229.4],\n",
       "       [  30. ,   95. ,  128. ,  128.2],\n",
       "       [  25. ,  152. ,  168. ,  244.2],\n",
       "       [  30. ,  109. ,  131. ,  188.2],\n",
       "       [  90. ,   93. ,  124. ,  604.1],\n",
       "       [  20. ,   95. ,  112. ,   77.7],\n",
       "       [  90. ,   90. ,  110. ,  500. ],\n",
       "       [  90. ,   90. ,  100. ,  500. ],\n",
       "       [  90. ,   90. ,  100. ,  500.4],\n",
       "       [  30. ,   92. ,  108. ,   92.7],\n",
       "       [  30. ,   93. ,  128. ,  124. ],\n",
       "       [ 180. ,   90. ,  120. ,  800.3],\n",
       "       [  30. ,   90. ,  120. ,   86.2],\n",
       "       [  90. ,   90. ,  120. ,  500.3],\n",
       "       [ 210. ,  137. ,  184. , 1860.4],\n",
       "       [  60. ,  102. ,  124. ,  325.2],\n",
       "       [  45. ,  107. ,  124. ,  275. ],\n",
       "       [  15. ,  124. ,  139. ,  124.2],\n",
       "       [  45. ,  100. ,  120. ,  225.3],\n",
       "       [  60. ,  108. ,  131. ,  367.6],\n",
       "       [  60. ,  108. ,  151. ,  351.7],\n",
       "       [  60. ,  116. ,  141. ,  443. ],\n",
       "       [  60. ,   97. ,  122. ,  277.4],\n",
       "       [  60. ,  105. ,  125. ,    nan],\n",
       "       [  60. ,  103. ,  124. ,  332.7],\n",
       "       [  30. ,  112. ,  137. ,  193.9],\n",
       "       [  45. ,  100. ,  120. ,  100.7],\n",
       "       [  60. ,  119. ,  169. ,  336.7],\n",
       "       [  60. ,  107. ,  127. ,  344.9],\n",
       "       [  60. ,  111. ,  151. ,  368.5],\n",
       "       [  60. ,   98. ,  122. ,  271. ],\n",
       "       [  60. ,   97. ,  124. ,  275.3],\n",
       "       [  60. ,  109. ,  127. ,  382. ],\n",
       "       [  90. ,   99. ,  125. ,  466.4],\n",
       "       [  60. ,  114. ,  151. ,  384. ],\n",
       "       [  60. ,  104. ,  134. ,  342.5],\n",
       "       [  60. ,  107. ,  138. ,  357.5],\n",
       "       [  60. ,  103. ,  133. ,  335. ],\n",
       "       [  60. ,  106. ,  132. ,  327.5],\n",
       "       [  60. ,  103. ,  136. ,  339. ],\n",
       "       [  20. ,  136. ,  156. ,  189. ],\n",
       "       [  45. ,  117. ,  143. ,  317.7],\n",
       "       [  45. ,  115. ,  137. ,  318. ],\n",
       "       [  45. ,  113. ,  138. ,  308. ],\n",
       "       [  20. ,  141. ,  162. ,  222.4],\n",
       "       [  60. ,  108. ,  135. ,  390. ],\n",
       "       [  60. ,   97. ,  127. ,    nan],\n",
       "       [  45. ,  100. ,  120. ,  250.4],\n",
       "       [  45. ,  122. ,  149. ,  335.4],\n",
       "       [  60. ,  136. ,  170. ,  470.2],\n",
       "       [  45. ,  106. ,  126. ,  270.8],\n",
       "       [  60. ,  107. ,  136. ,  400. ],\n",
       "       [  60. ,  112. ,  146. ,  361.9],\n",
       "       [  30. ,  103. ,  127. ,  185. ],\n",
       "       [  60. ,  110. ,  150. ,  409.4],\n",
       "       [  60. ,  106. ,  134. ,  343. ],\n",
       "       [  60. ,  109. ,  129. ,  353.2],\n",
       "       [  60. ,  109. ,  138. ,  374. ],\n",
       "       [  30. ,  150. ,  167. ,  275.8],\n",
       "       [  60. ,  105. ,  128. ,  328. ],\n",
       "       [  60. ,  111. ,  151. ,  368.5],\n",
       "       [  60. ,   97. ,  131. ,  270.4],\n",
       "       [  60. ,  100. ,  120. ,  270.4],\n",
       "       [  60. ,  114. ,  150. ,  382.8],\n",
       "       [  30. ,   80. ,  120. ,  240.9],\n",
       "       [  30. ,   85. ,  120. ,  250.4],\n",
       "       [  45. ,   90. ,  130. ,  260.4],\n",
       "       [  45. ,   95. ,  130. ,  270. ],\n",
       "       [  45. ,  100. ,  140. ,  280.9],\n",
       "       [  60. ,  105. ,  140. ,  290.8],\n",
       "       [  60. ,  110. ,  145. ,  300. ],\n",
       "       [  60. ,  115. ,  145. ,  310.2],\n",
       "       [  75. ,  120. ,  150. ,  320.4],\n",
       "       [  75. ,  125. ,  150. ,  330.4]])"
      ]
     },
     "execution_count": 54,
     "metadata": {},
     "output_type": "execute_result"
    }
   ],
   "source": [
    "df1.to_numpy()"
   ]
  },
  {
   "cell_type": "code",
   "execution_count": 56,
   "id": "dc277912-816c-4777-951e-1f4730e5573b",
   "metadata": {},
   "outputs": [
    {
     "data": {
      "text/plain": [
       "Duration      int64\n",
       "Pulse         int64\n",
       "Maxpulse      int64\n",
       "Calories    float64\n",
       "dtype: object"
      ]
     },
     "execution_count": 56,
     "metadata": {},
     "output_type": "execute_result"
    }
   ],
   "source": [
    "df1.dtypes"
   ]
  },
  {
   "cell_type": "code",
   "execution_count": 58,
   "id": "10f9e166-5026-4bb4-b84c-41be41a82549",
   "metadata": {},
   "outputs": [
    {
     "data": {
      "text/plain": [
       "2"
      ]
     },
     "execution_count": 58,
     "metadata": {},
     "output_type": "execute_result"
    }
   ],
   "source": [
    "df1.ndim"
   ]
  },
  {
   "cell_type": "code",
   "execution_count": 60,
   "id": "f23f4ad8-5ede-41c0-b5bd-f3ebb9e74e55",
   "metadata": {},
   "outputs": [
    {
     "data": {
      "text/plain": [
       "(3, 3)"
      ]
     },
     "execution_count": 60,
     "metadata": {},
     "output_type": "execute_result"
    }
   ],
   "source": [
    "df.shape"
   ]
  },
  {
   "cell_type": "code",
   "execution_count": 62,
   "id": "e4babe67-7b1a-4045-a5c8-50919d0c75dd",
   "metadata": {},
   "outputs": [
    {
     "data": {
      "text/plain": [
       "676"
      ]
     },
     "execution_count": 62,
     "metadata": {},
     "output_type": "execute_result"
    }
   ],
   "source": [
    "df1.size"
   ]
  },
  {
   "cell_type": "code",
   "execution_count": 64,
   "id": "c5407c86-f300-42f0-8e74-1d9836f77494",
   "metadata": {},
   "outputs": [
    {
     "data": {
      "text/plain": [
       "Index        132\n",
       "Duration    1352\n",
       "Pulse       1352\n",
       "Maxpulse    1352\n",
       "Calories    1352\n",
       "dtype: int64"
      ]
     },
     "execution_count": 64,
     "metadata": {},
     "output_type": "execute_result"
    }
   ],
   "source": [
    "df1.memory_usage()"
   ]
  },
  {
   "cell_type": "code",
   "execution_count": 70,
   "id": "ffa2ca7a-89a9-49c5-8fab-65176a1735e6",
   "metadata": {},
   "outputs": [
    {
     "data": {
      "text/plain": [
       "0      60\n",
       "1      60\n",
       "2      60\n",
       "3      45\n",
       "4      45\n",
       "       ..\n",
       "164    60\n",
       "165    60\n",
       "166    60\n",
       "167    75\n",
       "168    75\n",
       "Name: Duration, Length: 169, dtype: int64"
      ]
     },
     "execution_count": 70,
     "metadata": {},
     "output_type": "execute_result"
    }
   ],
   "source": [
    "df1['Duration']"
   ]
  },
  {
   "cell_type": "code",
   "execution_count": 76,
   "id": "59dd8340-ad90-4363-b127-6c7587397ae7",
   "metadata": {},
   "outputs": [
    {
     "data": {
      "text/plain": [
       "Duration     60.0\n",
       "Pulse       103.0\n",
       "Maxpulse    147.0\n",
       "Calories    329.3\n",
       "Name: 10, dtype: float64"
      ]
     },
     "execution_count": 76,
     "metadata": {},
     "output_type": "execute_result"
    }
   ],
   "source": [
    "df1.loc[10]"
   ]
  },
  {
   "cell_type": "code",
   "execution_count": 78,
   "id": "379c8e62-a2b9-465a-a1fe-982b0c1d4efc",
   "metadata": {},
   "outputs": [
    {
     "data": {
      "text/plain": [
       "Duration     60.0\n",
       "Pulse       103.0\n",
       "Maxpulse    147.0\n",
       "Calories    329.3\n",
       "Name: 10, dtype: float64"
      ]
     },
     "execution_count": 78,
     "metadata": {},
     "output_type": "execute_result"
    }
   ],
   "source": [
    "df1.iloc[10]"
   ]
  },
  {
   "cell_type": "code",
   "execution_count": 80,
   "id": "c2977431-ac6f-41fb-851a-0c8ab78c80d4",
   "metadata": {},
   "outputs": [
    {
     "data": {
      "text/plain": [
       "0      60\n",
       "1      60\n",
       "2      60\n",
       "3      45\n",
       "4      45\n",
       "       ..\n",
       "164    60\n",
       "165    60\n",
       "166    60\n",
       "167    75\n",
       "168    75\n",
       "Name: Duration, Length: 169, dtype: int64"
      ]
     },
     "execution_count": 80,
     "metadata": {},
     "output_type": "execute_result"
    }
   ],
   "source": [
    "df1.loc[:, \"Duration\"]"
   ]
  },
  {
   "cell_type": "code",
   "execution_count": 82,
   "id": "9d8bbb71-ddbe-4584-835b-029bc2abbded",
   "metadata": {},
   "outputs": [
    {
     "data": {
      "text/plain": [
       "0      110\n",
       "1      117\n",
       "2      103\n",
       "3      109\n",
       "4      117\n",
       "      ... \n",
       "164    105\n",
       "165    110\n",
       "166    115\n",
       "167    120\n",
       "168    125\n",
       "Name: Pulse, Length: 169, dtype: int64"
      ]
     },
     "execution_count": 82,
     "metadata": {},
     "output_type": "execute_result"
    }
   ],
   "source": [
    "df1.iloc[:, 1]"
   ]
  },
  {
   "cell_type": "code",
   "execution_count": 88,
   "id": "352a8b68-2f5c-44ce-a4ce-decdf54b9aa2",
   "metadata": {},
   "outputs": [
    {
     "data": {
      "text/html": [
       "<div>\n",
       "<style scoped>\n",
       "    .dataframe tbody tr th:only-of-type {\n",
       "        vertical-align: middle;\n",
       "    }\n",
       "\n",
       "    .dataframe tbody tr th {\n",
       "        vertical-align: top;\n",
       "    }\n",
       "\n",
       "    .dataframe thead th {\n",
       "        text-align: right;\n",
       "    }\n",
       "</style>\n",
       "<table border=\"1\" class=\"dataframe\">\n",
       "  <thead>\n",
       "    <tr style=\"text-align: right;\">\n",
       "      <th></th>\n",
       "      <th>Pulse</th>\n",
       "      <th>Maxpulse</th>\n",
       "    </tr>\n",
       "  </thead>\n",
       "  <tbody>\n",
       "    <tr>\n",
       "      <th>11</th>\n",
       "      <td>100</td>\n",
       "      <td>120</td>\n",
       "    </tr>\n",
       "    <tr>\n",
       "      <th>12</th>\n",
       "      <td>106</td>\n",
       "      <td>128</td>\n",
       "    </tr>\n",
       "    <tr>\n",
       "      <th>13</th>\n",
       "      <td>104</td>\n",
       "      <td>132</td>\n",
       "    </tr>\n",
       "    <tr>\n",
       "      <th>14</th>\n",
       "      <td>98</td>\n",
       "      <td>123</td>\n",
       "    </tr>\n",
       "    <tr>\n",
       "      <th>15</th>\n",
       "      <td>98</td>\n",
       "      <td>120</td>\n",
       "    </tr>\n",
       "  </tbody>\n",
       "</table>\n",
       "</div>"
      ],
      "text/plain": [
       "    Pulse  Maxpulse\n",
       "11    100       120\n",
       "12    106       128\n",
       "13    104       132\n",
       "14     98       123\n",
       "15     98       120"
      ]
     },
     "execution_count": 88,
     "metadata": {},
     "output_type": "execute_result"
    }
   ],
   "source": [
    "df1.loc[11:15,['Pulse','Maxpulse']]"
   ]
  },
  {
   "cell_type": "code",
   "execution_count": 96,
   "id": "6a1d2919-e583-4bad-bdeb-22ebac81e603",
   "metadata": {},
   "outputs": [
    {
     "data": {
      "text/html": [
       "<div>\n",
       "<style scoped>\n",
       "    .dataframe tbody tr th:only-of-type {\n",
       "        vertical-align: middle;\n",
       "    }\n",
       "\n",
       "    .dataframe tbody tr th {\n",
       "        vertical-align: top;\n",
       "    }\n",
       "\n",
       "    .dataframe thead th {\n",
       "        text-align: right;\n",
       "    }\n",
       "</style>\n",
       "<table border=\"1\" class=\"dataframe\">\n",
       "  <thead>\n",
       "    <tr style=\"text-align: right;\">\n",
       "      <th></th>\n",
       "      <th>Duration</th>\n",
       "      <th>Maxpulse</th>\n",
       "    </tr>\n",
       "  </thead>\n",
       "  <tbody>\n",
       "    <tr>\n",
       "      <th>1</th>\n",
       "      <td>60</td>\n",
       "      <td>145</td>\n",
       "    </tr>\n",
       "    <tr>\n",
       "      <th>2</th>\n",
       "      <td>60</td>\n",
       "      <td>135</td>\n",
       "    </tr>\n",
       "    <tr>\n",
       "      <th>3</th>\n",
       "      <td>45</td>\n",
       "      <td>175</td>\n",
       "    </tr>\n",
       "    <tr>\n",
       "      <th>4</th>\n",
       "      <td>45</td>\n",
       "      <td>148</td>\n",
       "    </tr>\n",
       "    <tr>\n",
       "      <th>5</th>\n",
       "      <td>60</td>\n",
       "      <td>127</td>\n",
       "    </tr>\n",
       "  </tbody>\n",
       "</table>\n",
       "</div>"
      ],
      "text/plain": [
       "   Duration  Maxpulse\n",
       "1        60       145\n",
       "2        60       135\n",
       "3        45       175\n",
       "4        45       148\n",
       "5        60       127"
      ]
     },
     "execution_count": 96,
     "metadata": {},
     "output_type": "execute_result"
    }
   ],
   "source": [
    "df1.iloc[1:6, [0, 2]]"
   ]
  },
  {
   "cell_type": "code",
   "execution_count": 98,
   "id": "e39e1cd1-a477-490e-933c-939e19d7f19a",
   "metadata": {},
   "outputs": [
    {
     "data": {
      "text/plain": [
       "1    60\n",
       "3    45\n",
       "5    60\n",
       "Name: Duration, dtype: int64"
      ]
     },
     "execution_count": 98,
     "metadata": {},
     "output_type": "execute_result"
    }
   ],
   "source": [
    "df1.iloc[1:6:2,0]"
   ]
  },
  {
   "cell_type": "code",
   "execution_count": 100,
   "id": "317fd8b2-25af-49b4-a353-2fc0617cfe82",
   "metadata": {},
   "outputs": [
    {
     "data": {
      "text/plain": [
       "1    60\n",
       "3    45\n",
       "5    60\n",
       "Name: Duration, dtype: int64"
      ]
     },
     "execution_count": 100,
     "metadata": {},
     "output_type": "execute_result"
    }
   ],
   "source": [
    "df1.iloc[slice(1,6,2),0]"
   ]
  },
  {
   "cell_type": "code",
   "execution_count": 102,
   "id": "1a52f1ca-2d2a-4170-91a2-29f373a55579",
   "metadata": {},
   "outputs": [
    {
     "data": {
      "text/plain": [
       "60"
      ]
     },
     "execution_count": 102,
     "metadata": {},
     "output_type": "execute_result"
    }
   ],
   "source": [
    "df1.at[12,\"Duration\"]"
   ]
  },
  {
   "cell_type": "code",
   "execution_count": 104,
   "id": "a03c6f23-f0ef-4c80-b837-4186a562effd",
   "metadata": {},
   "outputs": [
    {
     "data": {
      "text/plain": [
       "0      409.1\n",
       "1      479.0\n",
       "2      340.0\n",
       "3      282.4\n",
       "4      406.0\n",
       "       ...  \n",
       "164    290.8\n",
       "165    300.0\n",
       "166    310.2\n",
       "167    320.4\n",
       "168    330.4\n",
       "Name: Calories, Length: 169, dtype: float64"
      ]
     },
     "execution_count": 104,
     "metadata": {},
     "output_type": "execute_result"
    }
   ],
   "source": [
    "df1.loc[:,\"Calories\"]"
   ]
  },
  {
   "cell_type": "code",
   "execution_count": 116,
   "id": "6efebb80-fbf5-46d3-a47b-f027b56639e7",
   "metadata": {},
   "outputs": [
    {
     "ename": "ValueError",
     "evalue": "Length of values (4) does not match length of index (3)",
     "output_type": "error",
     "traceback": [
      "\u001b[1;31m---------------------------------------------------------------------------\u001b[0m",
      "\u001b[1;31mValueError\u001b[0m                                Traceback (most recent call last)",
      "Cell \u001b[1;32mIn[116], line 1\u001b[0m\n\u001b[1;32m----> 1\u001b[0m john\u001b[38;5;241m=\u001b[39mpd\u001b[38;5;241m.\u001b[39mSeries(data\u001b[38;5;241m=\u001b[39m[\u001b[38;5;124m'\u001b[39m\u001b[38;5;124mJohn\u001b[39m\u001b[38;5;124m'\u001b[39m, \u001b[38;5;124m'\u001b[39m\u001b[38;5;124mBoston\u001b[39m\u001b[38;5;124m'\u001b[39m,\u001b[38;5;241m34\u001b[39m,\u001b[38;5;241m79\u001b[39m],\n\u001b[0;32m      2\u001b[0m                index\u001b[38;5;241m=\u001b[39mdf\u001b[38;5;241m.\u001b[39mcolumns, name\u001b[38;5;241m=\u001b[39m\u001b[38;5;241m17\u001b[39m)\n\u001b[0;32m      3\u001b[0m john\n",
      "File \u001b[1;32m~\\anaconda3\\Lib\\site-packages\\pandas\\core\\series.py:575\u001b[0m, in \u001b[0;36mSeries.__init__\u001b[1;34m(self, data, index, dtype, name, copy, fastpath)\u001b[0m\n\u001b[0;32m    573\u001b[0m     index \u001b[38;5;241m=\u001b[39m default_index(\u001b[38;5;28mlen\u001b[39m(data))\n\u001b[0;32m    574\u001b[0m \u001b[38;5;28;01melif\u001b[39;00m is_list_like(data):\n\u001b[1;32m--> 575\u001b[0m     com\u001b[38;5;241m.\u001b[39mrequire_length_match(data, index)\n\u001b[0;32m    577\u001b[0m \u001b[38;5;66;03m# create/copy the manager\u001b[39;00m\n\u001b[0;32m    578\u001b[0m \u001b[38;5;28;01mif\u001b[39;00m \u001b[38;5;28misinstance\u001b[39m(data, (SingleBlockManager, SingleArrayManager)):\n",
      "File \u001b[1;32m~\\anaconda3\\Lib\\site-packages\\pandas\\core\\common.py:573\u001b[0m, in \u001b[0;36mrequire_length_match\u001b[1;34m(data, index)\u001b[0m\n\u001b[0;32m    569\u001b[0m \u001b[38;5;250m\u001b[39m\u001b[38;5;124;03m\"\"\"\u001b[39;00m\n\u001b[0;32m    570\u001b[0m \u001b[38;5;124;03mCheck the length of data matches the length of the index.\u001b[39;00m\n\u001b[0;32m    571\u001b[0m \u001b[38;5;124;03m\"\"\"\u001b[39;00m\n\u001b[0;32m    572\u001b[0m \u001b[38;5;28;01mif\u001b[39;00m \u001b[38;5;28mlen\u001b[39m(data) \u001b[38;5;241m!=\u001b[39m \u001b[38;5;28mlen\u001b[39m(index):\n\u001b[1;32m--> 573\u001b[0m     \u001b[38;5;28;01mraise\u001b[39;00m \u001b[38;5;167;01mValueError\u001b[39;00m(\n\u001b[0;32m    574\u001b[0m         \u001b[38;5;124m\"\u001b[39m\u001b[38;5;124mLength of values \u001b[39m\u001b[38;5;124m\"\u001b[39m\n\u001b[0;32m    575\u001b[0m         \u001b[38;5;124mf\u001b[39m\u001b[38;5;124m\"\u001b[39m\u001b[38;5;124m(\u001b[39m\u001b[38;5;132;01m{\u001b[39;00m\u001b[38;5;28mlen\u001b[39m(data)\u001b[38;5;132;01m}\u001b[39;00m\u001b[38;5;124m) \u001b[39m\u001b[38;5;124m\"\u001b[39m\n\u001b[0;32m    576\u001b[0m         \u001b[38;5;124m\"\u001b[39m\u001b[38;5;124mdoes not match length of index \u001b[39m\u001b[38;5;124m\"\u001b[39m\n\u001b[0;32m    577\u001b[0m         \u001b[38;5;124mf\u001b[39m\u001b[38;5;124m\"\u001b[39m\u001b[38;5;124m(\u001b[39m\u001b[38;5;132;01m{\u001b[39;00m\u001b[38;5;28mlen\u001b[39m(index)\u001b[38;5;132;01m}\u001b[39;00m\u001b[38;5;124m)\u001b[39m\u001b[38;5;124m\"\u001b[39m\n\u001b[0;32m    578\u001b[0m     )\n",
      "\u001b[1;31mValueError\u001b[0m: Length of values (4) does not match length of index (3)"
     ]
    }
   ],
   "source": [
    "df=pd.Series(data=['John', 'Boston',34,79],\n",
    "               index=df.columns, name=17)\n",
    "john"
   ]
  },
  {
   "cell_type": "code",
   "execution_count": null,
   "id": "0eae0c6c-7a7f-44f8-bcae-772ab0d917a8",
   "metadata": {},
   "outputs": [],
   "source": []
  }
 ],
 "metadata": {
  "kernelspec": {
   "display_name": "Python [conda env:base] *",
   "language": "python",
   "name": "conda-base-py"
  },
  "language_info": {
   "codemirror_mode": {
    "name": "ipython",
    "version": 3
   },
   "file_extension": ".py",
   "mimetype": "text/x-python",
   "name": "python",
   "nbconvert_exporter": "python",
   "pygments_lexer": "ipython3",
   "version": "3.12.7"
  }
 },
 "nbformat": 4,
 "nbformat_minor": 5
}
