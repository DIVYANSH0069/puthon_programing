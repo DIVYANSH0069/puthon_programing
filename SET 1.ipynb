{
 "cells": [
  {
   "cell_type": "code",
   "execution_count": 19,
   "id": "6a91ddf0-08cc-41f0-9db8-0398237a2100",
   "metadata": {},
   "outputs": [
    {
     "name": "stdout",
     "output_type": "stream",
     "text": [
      "{1, 2, 3, 4}\n"
     ]
    }
   ],
   "source": [
    "s1={1,2,3,4}\n",
    "print(s1)"
   ]
  },
  {
   "cell_type": "code",
   "execution_count": 15,
   "id": "476e5b69-7338-4f59-99a4-8255dc667762",
   "metadata": {},
   "outputs": [
    {
     "name": "stdout",
     "output_type": "stream",
     "text": [
      "<class 'set'>\n"
     ]
    }
   ],
   "source": [
    "print(type(s1))"
   ]
  },
  {
   "cell_type": "code",
   "execution_count": 17,
   "id": "2ba97031-8fa0-4a72-ac87-b877bf5669d0",
   "metadata": {},
   "outputs": [
    {
     "name": "stdout",
     "output_type": "stream",
     "text": [
      "4\n"
     ]
    }
   ],
   "source": [
    "print(len(s1))"
   ]
  },
  {
   "cell_type": "code",
   "execution_count": 5,
   "id": "5116a8e4-410b-4125-9f2b-2c347594b270",
   "metadata": {},
   "outputs": [],
   "source": [
    "s2={\"apple\", \"banana\", \"cherry\"}\n"
   ]
  },
  {
   "cell_type": "code",
   "execution_count": 7,
   "id": "1702ba7a-d757-4b90-9267-9b6fd41c65f0",
   "metadata": {},
   "outputs": [
    {
     "data": {
      "text/plain": [
       "{'apple', 'banana', 'cherry'}"
      ]
     },
     "execution_count": 7,
     "metadata": {},
     "output_type": "execute_result"
    }
   ],
   "source": [
    "s2"
   ]
  },
  {
   "cell_type": "code",
   "execution_count": 9,
   "id": "1569c5f0-9c1e-4fdd-b13c-2773282a7b48",
   "metadata": {},
   "outputs": [
    {
     "data": {
      "text/plain": [
       "{'apple', 'banana', 'cherry'}"
      ]
     },
     "execution_count": 9,
     "metadata": {},
     "output_type": "execute_result"
    }
   ],
   "source": [
    "s2"
   ]
  },
  {
   "cell_type": "code",
   "execution_count": 11,
   "id": "92b9a336-c2ee-4aeb-b402-9dbd6080661e",
   "metadata": {},
   "outputs": [],
   "source": [
    "# ACCESS ITEMS"
   ]
  },
  {
   "cell_type": "code",
   "execution_count": 21,
   "id": "5d85d134-a49a-48a0-a046-5e44d850cf22",
   "metadata": {},
   "outputs": [
    {
     "name": "stdout",
     "output_type": "stream",
     "text": [
      "True\n"
     ]
    }
   ],
   "source": [
    "print(4 in s1)"
   ]
  },
  {
   "cell_type": "code",
   "execution_count": 23,
   "id": "f39814ae-bbdc-4596-ae3f-6d05b71352ba",
   "metadata": {},
   "outputs": [
    {
     "name": "stdout",
     "output_type": "stream",
     "text": [
      "True\n"
     ]
    }
   ],
   "source": [
    "print(5 not in s1)"
   ]
  },
  {
   "cell_type": "code",
   "execution_count": 25,
   "id": "2ca203b9-5aa2-4c1d-a1d8-70e80567e6ac",
   "metadata": {},
   "outputs": [
    {
     "name": "stdout",
     "output_type": "stream",
     "text": [
      "False\n"
     ]
    }
   ],
   "source": [
    "print(2 not in s1)"
   ]
  },
  {
   "cell_type": "code",
   "execution_count": 27,
   "id": "989e006f-4f66-41e5-b304-d8690c7f2069",
   "metadata": {},
   "outputs": [],
   "source": [
    "# add set item"
   ]
  },
  {
   "cell_type": "code",
   "execution_count": 29,
   "id": "792bcd15-0c5f-491b-a764-0e8193dd6c7c",
   "metadata": {},
   "outputs": [],
   "source": [
    "s1.add('a')"
   ]
  },
  {
   "cell_type": "code",
   "execution_count": 31,
   "id": "5ba2e201-53bd-4437-a240-e0b15c6a1acc",
   "metadata": {},
   "outputs": [
    {
     "data": {
      "text/plain": [
       "{1, 2, 3, 4, 'a'}"
      ]
     },
     "execution_count": 31,
     "metadata": {},
     "output_type": "execute_result"
    }
   ],
   "source": [
    "s1"
   ]
  },
  {
   "cell_type": "code",
   "execution_count": 33,
   "id": "b1803904-45ae-44eb-9bd0-6099ae14fd1b",
   "metadata": {},
   "outputs": [],
   "source": [
    "s1.update(s2)"
   ]
  },
  {
   "cell_type": "code",
   "execution_count": 52,
   "id": "94f17ab5-9a69-49e5-9dec-6ab6cac8fe66",
   "metadata": {},
   "outputs": [
    {
     "data": {
      "text/plain": [
       "{1, 2, 'a', 'apple', 'banana', 'cherry'}"
      ]
     },
     "execution_count": 52,
     "metadata": {},
     "output_type": "execute_result"
    }
   ],
   "source": [
    "s1"
   ]
  },
  {
   "cell_type": "code",
   "execution_count": 50,
   "id": "30e3f5da-a80e-4bae-b65d-998fa1638a92",
   "metadata": {},
   "outputs": [],
   "source": [
    "s1.remove(4)"
   ]
  },
  {
   "cell_type": "code",
   "execution_count": 54,
   "id": "1a7623e9-4392-4675-bfda-4169cada23f5",
   "metadata": {},
   "outputs": [
    {
     "data": {
      "text/plain": [
       "{1, 2, 'a', 'apple', 'banana', 'cherry'}"
      ]
     },
     "execution_count": 54,
     "metadata": {},
     "output_type": "execute_result"
    }
   ],
   "source": [
    "s1\n",
    "\n",
    "\n"
   ]
  },
  {
   "cell_type": "code",
   "execution_count": 56,
   "id": "41525410-e24d-4d86-8c36-55210207c394",
   "metadata": {},
   "outputs": [],
   "source": [
    "s1.remove(1)"
   ]
  },
  {
   "cell_type": "code",
   "execution_count": 58,
   "id": "9f03d37c-a303-4bb2-9c62-db70ddbbc910",
   "metadata": {},
   "outputs": [
    {
     "data": {
      "text/plain": [
       "{2, 'a', 'apple', 'banana', 'cherry'}"
      ]
     },
     "execution_count": 58,
     "metadata": {},
     "output_type": "execute_result"
    }
   ],
   "source": [
    "s1\n",
    "\n",
    "\n"
   ]
  },
  {
   "cell_type": "code",
   "execution_count": 60,
   "id": "71bd6c61-db16-4898-b2a0-bf1bf377fce5",
   "metadata": {},
   "outputs": [],
   "source": [
    "s3={1,2}"
   ]
  },
  {
   "cell_type": "code",
   "execution_count": 62,
   "id": "5da7f666-b655-4399-b23a-5c7b915ca4de",
   "metadata": {},
   "outputs": [],
   "source": [
    "s3.clear()"
   ]
  },
  {
   "cell_type": "code",
   "execution_count": 64,
   "id": "8b8fac4c-4c39-4953-94ba-d286241bdf6b",
   "metadata": {},
   "outputs": [
    {
     "data": {
      "text/plain": [
       "set()"
      ]
     },
     "execution_count": 64,
     "metadata": {},
     "output_type": "execute_result"
    }
   ],
   "source": [
    "s3"
   ]
  },
  {
   "cell_type": "code",
   "execution_count": 66,
   "id": "f16956e0-2a4c-4e57-bd5a-329c4aceeb0c",
   "metadata": {},
   "outputs": [],
   "source": [
    "s4={1,2}"
   ]
  },
  {
   "cell_type": "code",
   "execution_count": 68,
   "id": "90d342f0-826c-44f8-b6d5-5045dcc59a5e",
   "metadata": {},
   "outputs": [],
   "source": [
    "del s4"
   ]
  },
  {
   "cell_type": "code",
   "execution_count": 72,
   "id": "9afa7a7f-6da0-4a7f-b728-854b3c6e4cd7",
   "metadata": {},
   "outputs": [],
   "source": [
    "# set join "
   ]
  },
  {
   "cell_type": "code",
   "execution_count": 7,
   "id": "469ac9a0-f37b-409d-b829-027c4c18aa4f",
   "metadata": {},
   "outputs": [
    {
     "name": "stdout",
     "output_type": "stream",
     "text": [
      "{1, 2, 3, 4, 'c', 'b', 'a'}\n"
     ]
    }
   ],
   "source": [
    "s5={1,2,3,4}\n",
    "s6={'a','b','c'}\n",
    "s7=s5.union(s6)\n",
    "print(s7)"
   ]
  },
  {
   "cell_type": "code",
   "execution_count": 11,
   "id": "146a4794-0caf-4295-acea-1d7af5ff7ad3",
   "metadata": {},
   "outputs": [
    {
     "name": "stdout",
     "output_type": "stream",
     "text": [
      "set()\n"
     ]
    }
   ],
   "source": [
    "s8=s5.intersection(s6)\n",
    "print(s8)"
   ]
  },
  {
   "cell_type": "code",
   "execution_count": null,
   "id": "9ad3f0b3-73cb-4b79-b60f-a3c4f3df8c9a",
   "metadata": {},
   "outputs": [],
   "source": []
  }
 ],
 "metadata": {
  "kernelspec": {
   "display_name": "Python [conda env:base] *",
   "language": "python",
   "name": "conda-base-py"
  },
  "language_info": {
   "codemirror_mode": {
    "name": "ipython",
    "version": 3
   },
   "file_extension": ".py",
   "mimetype": "text/x-python",
   "name": "python",
   "nbconvert_exporter": "python",
   "pygments_lexer": "ipython3",
   "version": "3.12.7"
  }
 },
 "nbformat": 4,
 "nbformat_minor": 5
}
