{
 "cells": [
  {
   "cell_type": "code",
   "execution_count": 1,
   "id": "8591eab9-7303-4459-8c55-0496d189620a",
   "metadata": {},
   "outputs": [
    {
     "name": "stdout",
     "output_type": "stream",
     "text": [
      "['apple', 'banana', 'kiwi']\n"
     ]
    }
   ],
   "source": [
    "mylist = [\"apple\", \"banana\", \"kiwi\"]\n",
    "print(mylist)"
   ]
  },
  {
   "cell_type": "code",
   "execution_count": 3,
   "id": "234f23ce-a197-422d-a041-5e96beee4e9b",
   "metadata": {},
   "outputs": [
    {
     "name": "stdout",
     "output_type": "stream",
     "text": [
      "3\n"
     ]
    }
   ],
   "source": [
    "print(len(mylist))"
   ]
  },
  {
   "cell_type": "code",
   "execution_count": 5,
   "id": "9b87a19e-07a5-4619-a4b4-57c4c4ac8826",
   "metadata": {},
   "outputs": [
    {
     "name": "stdout",
     "output_type": "stream",
     "text": [
      "['aman', 'ram', 'karan']\n",
      "['neema', 'ishika', 'ruhi']\n",
      "['yash', 'himanshu', 'arjun']\n",
      "3\n",
      "3\n",
      "3\n"
     ]
    }
   ],
   "source": [
    "list1 = [\"aman\", \"ram\", \"karan\"]\n",
    "list2 = [\"neema\", \"ishika\", \"ruhi\"]\n",
    "list3 = [\"yash\", \"himanshu\", \"arjun\"]\n",
    "\n",
    "print(list1)\n",
    "print(list2)\n",
    "print(list3)\n",
    "\n",
    "print(len(list1))\n",
    "print(len(list2))\n",
    "print(len(list3))"
   ]
  },
  {
   "cell_type": "code",
   "execution_count": 15,
   "id": "9ef2334c-f8d6-4fb6-a73c-87e0fbb2fb00",
   "metadata": {},
   "outputs": [
    {
     "name": "stdout",
     "output_type": "stream",
     "text": [
      "ram\n"
     ]
    }
   ],
   "source": [
    "list1 = [\"aman\", \"ram\", \"karan\"]\n",
    "print(list1[-2])"
   ]
  },
  {
   "cell_type": "code",
   "execution_count": 35,
   "id": "a1688fce-20c1-47a1-aa41-75be7089e820",
   "metadata": {},
   "outputs": [
    {
     "name": "stdout",
     "output_type": "stream",
     "text": [
      "['ram', 'karan', 'himanshu', 'danish', 'rahish', 'kunnu']\n"
     ]
    }
   ],
   "source": [
    "thislist = [\"arjun\", \"ram\", \"karan\", \"himanshu\", \"danish\", \"rahish\", \"kunnu\"]\n",
    "print(thislist[1:])"
   ]
  },
  {
   "cell_type": "code",
   "execution_count": 37,
   "id": "092820f0-41fd-4ec3-a2f6-14b0880b04d3",
   "metadata": {},
   "outputs": [
    {
     "name": "stdout",
     "output_type": "stream",
     "text": [
      "yes, 'danish' is in my friend list\n"
     ]
    }
   ],
   "source": [
    "thislist = [\"arjun\", \"ram\", \"karan\", \"himanshu\", \"danish\", \"rahish\", \"kunnu\"]\n",
    "if \"danish\" in thislist:\n",
    "    print(\"yes, 'danish' is in my friend list\")"
   ]
  },
  {
   "cell_type": "code",
   "execution_count": 43,
   "id": "504bbe4d-197d-4fc1-b1c3-84774ac8cce3",
   "metadata": {},
   "outputs": [
    {
     "name": "stdout",
     "output_type": "stream",
     "text": [
      "['arjun', 'ram', 'karan', 'himanshu', 'danish', 'ishika', 'kunnu']\n"
     ]
    }
   ],
   "source": [
    "thislist = [\"arjun\", \"ram\", \"karan\", \"himanshu\", \"danish\", \"rahish\", \"kunnu\"]\n",
    "thislist[5] = \"ishika\"\n",
    "print(thislist)"
   ]
  },
  {
   "cell_type": "code",
   "execution_count": 55,
   "id": "cf6aa41f-a30b-42b8-9212-b18cbec715d0",
   "metadata": {},
   "outputs": [
    {
     "name": "stdout",
     "output_type": "stream",
     "text": [
      "['arjun', 'ram', 'karan', 'himanshu', 'danish', 'neha', 'karishma', 'kunnu']\n"
     ]
    }
   ],
   "source": [
    "thislist = [\"arjun\", \"ram\", \"karan\", \"himanshu\", \"danish\", \"rahish\", \"kunnu\"]\n",
    "thislist[5:6] = (\"neha\",\"karishma\")\n",
    "print(thislist)"
   ]
  },
  {
   "cell_type": "code",
   "execution_count": 59,
   "id": "e0b16604-d6bb-44bd-bebb-5d3debc26dce",
   "metadata": {},
   "outputs": [
    {
     "name": "stdout",
     "output_type": "stream",
     "text": [
      "['arjun', 'ram', 'karan', 'himanshu', 'danish', 'rahish', 'kunnu', 'kajal']\n"
     ]
    }
   ],
   "source": [
    "thislist = [\"arjun\", \"ram\", \"karan\", \"himanshu\", \"danish\", \"rahish\", \"kunnu\"]\n",
    "thislist.insert(7, \"kajal\")\n",
    "print(thislist)"
   ]
  },
  {
   "cell_type": "code",
   "execution_count": 65,
   "id": "188dc726-a426-4cf8-add6-0815e7f04776",
   "metadata": {},
   "outputs": [
    {
     "name": "stdout",
     "output_type": "stream",
     "text": [
      "['arjun', 'ram', 'karan', 'himanshu', 'danish', 'rahish', 'kunnu', 'manju']\n"
     ]
    }
   ],
   "source": [
    "thislist = [\"arjun\", \"ram\", \"karan\", \"himanshu\", \"danish\", \"rahish\", \"kunnu\"]\n",
    "thislist.append( \"manju\")\n",
    "print(thislist)"
   ]
  },
  {
   "cell_type": "code",
   "execution_count": 67,
   "id": "2fa6d868-e24d-4ae7-a3e0-bbc1dd584aef",
   "metadata": {},
   "outputs": [
    {
     "name": "stdout",
     "output_type": "stream",
     "text": [
      "['arjun', 'manju', 'ram', 'karan', 'himanshu', 'danish', 'rahish', 'kunnu']\n"
     ]
    }
   ],
   "source": [
    "thislist = [\"arjun\", \"ram\", \"karan\", \"himanshu\", \"danish\", \"rahish\", \"kunnu\"]\n",
    "thislist.insert(1, \"manju\")\n",
    "print(thislist)"
   ]
  },
  {
   "cell_type": "code",
   "execution_count": 71,
   "id": "afc3914f-2013-4ff2-a4e4-e063324f0cd9",
   "metadata": {},
   "outputs": [
    {
     "name": "stdout",
     "output_type": "stream",
     "text": [
      "['aman', 'ram', 'karan', 'neema', 'ishika', 'ruhi']\n"
     ]
    }
   ],
   "source": [
    "list1 = [\"aman\", \"ram\", \"karan\"]\n",
    "work = [\"neema\", \"ishika\", \"ruhi\"]\n",
    "list1.extend(work)\n",
    "print(list1)"
   ]
  },
  {
   "cell_type": "code",
   "execution_count": 77,
   "id": "e8240477-e4b9-42f3-bc14-7f0c48b3e10b",
   "metadata": {},
   "outputs": [
    {
     "name": "stdout",
     "output_type": "stream",
     "text": [
      "['ishika', 'ruhi']\n"
     ]
    }
   ],
   "source": [
    "list2 = [\"neema\", \"ishika\", \"ruhi\"]\n",
    "list2.remove(\"neema\")\n",
    "print(list2)"
   ]
  },
  {
   "cell_type": "code",
   "execution_count": 83,
   "id": "298df255-ce93-404c-a364-02be2b87bdd4",
   "metadata": {},
   "outputs": [
    {
     "name": "stdout",
     "output_type": "stream",
     "text": [
      "['neema', 'ishika']\n"
     ]
    }
   ],
   "source": [
    "list2 = [\"neema\", \"ishika\", \"ruhi\"]\n",
    "list2.pop(2)\n",
    "print(list2)"
   ]
  },
  {
   "cell_type": "code",
   "execution_count": 89,
   "id": "8c6e3afc-f5b7-4251-ba7e-0f4ffdae46b5",
   "metadata": {},
   "outputs": [
    {
     "name": "stdout",
     "output_type": "stream",
     "text": [
      "['neema', 'ishika']\n"
     ]
    }
   ],
   "source": [
    "list2 = [\"neema\", \"ishika\", \"ruhi\"]\n",
    "del list2[2]\n",
    "print(list2)"
   ]
  },
  {
   "cell_type": "code",
   "execution_count": 95,
   "id": "8e18e1a4-1bdd-4763-a2c3-c1c9c21275a4",
   "metadata": {},
   "outputs": [
    {
     "name": "stdout",
     "output_type": "stream",
     "text": [
      "arjun\n",
      "ram\n",
      "karan\n",
      "himanshu\n",
      "danish\n",
      "rahish\n",
      "kunnu\n"
     ]
    }
   ],
   "source": [
    "thislist = [\"arjun\", \"ram\", \"karan\", \"himanshu\", \"danish\", \"rahish\", \"kunnu\"]\n",
    "for x in thislist:\n",
    "    print(x)"
   ]
  },
  {
   "cell_type": "code",
   "execution_count": 97,
   "id": "4dd8077f-9007-409b-9b4a-3408625867b5",
   "metadata": {},
   "outputs": [
    {
     "name": "stdout",
     "output_type": "stream",
     "text": [
      "arjun\n",
      "ram\n",
      "karan\n",
      "himanshu\n",
      "danish\n",
      "rahish\n",
      "kunnu\n"
     ]
    }
   ],
   "source": [
    "thislist = [\"arjun\", \"ram\", \"karan\", \"himanshu\", \"danish\", \"rahish\", \"kunnu\"]\n",
    "for i in range(len(thislist)):\n",
    "  print(thislist[i])"
   ]
  },
  {
   "cell_type": "code",
   "execution_count": 101,
   "id": "6251e74b-0746-4d4f-8cf9-1de499974de2",
   "metadata": {},
   "outputs": [
    {
     "name": "stdout",
     "output_type": "stream",
     "text": [
      "['arjun', 'danish', 'himanshu', 'karan', 'kunnu', 'rahish', 'ram']\n"
     ]
    }
   ],
   "source": [
    "thislist = [\"arjun\", \"ram\", \"karan\", \"himanshu\", \"danish\", \"rahish\", \"kunnu\"]\n",
    "thislist.sort()\n",
    "print(thislist)\n",
    "\n",
    "\n",
    "\n"
   ]
  },
  {
   "cell_type": "code",
   "execution_count": 103,
   "id": "d12565be-a368-49db-875e-00ae836b5dd1",
   "metadata": {},
   "outputs": [
    {
     "name": "stdout",
     "output_type": "stream",
     "text": [
      "[1, 10, 20, 21, 55, 64, 66, 99]\n"
     ]
    }
   ],
   "source": [
    "thislist = [10, 20, 55, 99, 1, 21, 66, 64]\n",
    "thislist.sort()\n",
    "print(thislist)"
   ]
  },
  {
   "cell_type": "code",
   "execution_count": 113,
   "id": "6cd0dc92-4632-4814-8a2c-2c71cba14906",
   "metadata": {},
   "outputs": [
    {
     "name": "stdout",
     "output_type": "stream",
     "text": [
      "[99, 66, 64, 55, 21, 20, 10, 1]\n"
     ]
    }
   ],
   "source": [
    "thislist = [10, 20, 55, 99, 1, 21, 66, 64]\n",
    "thislist.sort(reverse = True)\n",
    "print(thislist)"
   ]
  },
  {
   "cell_type": "code",
   "execution_count": 115,
   "id": "ab1ade36-cb71-46dd-aa30-2493c6a58027",
   "metadata": {},
   "outputs": [
    {
     "name": "stdout",
     "output_type": "stream",
     "text": [
      "['kunnu', 'rahish', 'danish', 'himanshu', 'karan', 'ram', 'arjun']\n"
     ]
    }
   ],
   "source": [
    "thislist = [\"arjun\", \"ram\", \"karan\", \"himanshu\", \"danish\", \"rahish\", \"kunnu\"]\n",
    "thislist.reverse()\n",
    "print(thislist)"
   ]
  },
  {
   "cell_type": "code",
   "execution_count": null,
   "id": "a9483fb1-62e8-4656-baf3-dae97fd49144",
   "metadata": {},
   "outputs": [],
   "source": []
  }
 ],
 "metadata": {
  "kernelspec": {
   "display_name": "Python [conda env:base] *",
   "language": "python",
   "name": "conda-base-py"
  },
  "language_info": {
   "codemirror_mode": {
    "name": "ipython",
    "version": 3
   },
   "file_extension": ".py",
   "mimetype": "text/x-python",
   "name": "python",
   "nbconvert_exporter": "python",
   "pygments_lexer": "ipython3",
   "version": "3.12.7"
  }
 },
 "nbformat": 4,
 "nbformat_minor": 5
}
