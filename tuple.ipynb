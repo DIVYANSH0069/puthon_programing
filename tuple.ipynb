{
 "cells": [
  {
   "cell_type": "code",
   "execution_count": 7,
   "id": "401884b1-4290-4545-90d3-99ded702478f",
   "metadata": {},
   "outputs": [],
   "source": [
    "# For addition of new values\n",
    "t2=(\"A\",\"B\",\"C\",\"D\",\"E\")\n",
    "y=list(t2)"
   ]
  },
  {
   "cell_type": "code",
   "execution_count": 9,
   "id": "c1ded6e8-bb65-43c5-b877-f33c5693c13a",
   "metadata": {},
   "outputs": [
    {
     "name": "stdout",
     "output_type": "stream",
     "text": [
      "<class 'list'>\n"
     ]
    }
   ],
   "source": [
    "print(type(y))"
   ]
  },
  {
   "cell_type": "code",
   "execution_count": 11,
   "id": "d66673f7-9393-44c9-a0f1-4e4bd436a477",
   "metadata": {},
   "outputs": [],
   "source": [
    "y[2]=11"
   ]
  },
  {
   "cell_type": "code",
   "execution_count": 13,
   "id": "4725e6f8-6d03-4e26-a5d2-6bd472f5a6c9",
   "metadata": {},
   "outputs": [],
   "source": [
    "t2=tuple(y)"
   ]
  },
  {
   "cell_type": "code",
   "execution_count": 17,
   "id": "a0df5fbc-3434-44ee-910a-cd03b3cbcbd3",
   "metadata": {},
   "outputs": [
    {
     "data": {
      "text/plain": [
       "('A', 'B', 11, 'D', 'E')"
      ]
     },
     "execution_count": 17,
     "metadata": {},
     "output_type": "execute_result"
    }
   ],
   "source": [
    "t2"
   ]
  },
  {
   "cell_type": "code",
   "execution_count": 21,
   "id": "d73c3333-5b48-4a2c-9d60-b853d3354dea",
   "metadata": {},
   "outputs": [],
   "source": [
    "z=list(t2)"
   ]
  },
  {
   "cell_type": "code",
   "execution_count": 23,
   "id": "e9cf9c03-fac2-4a95-a3f4-72e7fb73c98a",
   "metadata": {},
   "outputs": [],
   "source": [
    "z.append(6)"
   ]
  },
  {
   "cell_type": "code",
   "execution_count": 25,
   "id": "899009be-c3a4-4cc4-b4aa-fa3123dcb9ff",
   "metadata": {
    "scrolled": true
   },
   "outputs": [
    {
     "data": {
      "text/plain": [
       "['A', 'B', 11, 'D', 'E', 6]"
      ]
     },
     "execution_count": 25,
     "metadata": {},
     "output_type": "execute_result"
    }
   ],
   "source": [
    "z"
   ]
  },
  {
   "cell_type": "code",
   "execution_count": 29,
   "id": "3ae61097-8604-4e81-b1da-f9d9f9b23643",
   "metadata": {},
   "outputs": [],
   "source": [
    "t2=tuple(z)"
   ]
  },
  {
   "cell_type": "code",
   "execution_count": 31,
   "id": "0f55ef83-e0c0-4ede-90b1-0b50ae27942d",
   "metadata": {},
   "outputs": [
    {
     "data": {
      "text/plain": [
       "('A', 'B', 11, 'D', 'E', 6)"
      ]
     },
     "execution_count": 31,
     "metadata": {},
     "output_type": "execute_result"
    }
   ],
   "source": [
    "t2"
   ]
  },
  {
   "cell_type": "code",
   "execution_count": 35,
   "id": "89ea61a9-0c65-4a71-a6d6-7d4a3a19881e",
   "metadata": {},
   "outputs": [],
   "source": [
    "# Addition of Tuple\n",
    "tuple_add1=(7,)"
   ]
  },
  {
   "cell_type": "code",
   "execution_count": 41,
   "id": "4be12216-93c0-463a-af68-2cf8db51bda9",
   "metadata": {},
   "outputs": [],
   "source": [
    "tuple_add2=(5,6,8,9)"
   ]
  },
  {
   "cell_type": "code",
   "execution_count": 43,
   "id": "a6192b30-f24c-4fc6-834d-9670d672d0cc",
   "metadata": {},
   "outputs": [],
   "source": [
    "tuple_add1=tuple_add1+tuple_add2\n"
   ]
  },
  {
   "cell_type": "code",
   "execution_count": 45,
   "id": "38169c41-f2b4-4481-b270-3363e9b9e579",
   "metadata": {},
   "outputs": [
    {
     "data": {
      "text/plain": [
       "(7, 5, 6, 8, 9)"
      ]
     },
     "execution_count": 45,
     "metadata": {},
     "output_type": "execute_result"
    }
   ],
   "source": [
    "tuple_add1"
   ]
  },
  {
   "cell_type": "code",
   "execution_count": 47,
   "id": "b44c13ce-a27b-46b7-9e62-fa4bb9f18508",
   "metadata": {},
   "outputs": [],
   "source": [
    "# Remove items in tuple \n",
    "h=list(t2)"
   ]
  },
  {
   "cell_type": "code",
   "execution_count": 49,
   "id": "8c59744b-30c5-4c8d-86a0-d2ef96f8d508",
   "metadata": {},
   "outputs": [
    {
     "data": {
      "text/plain": [
       "('A', 'B', 11, 'D', 'E', 6)"
      ]
     },
     "execution_count": 49,
     "metadata": {},
     "output_type": "execute_result"
    }
   ],
   "source": [
    "t2"
   ]
  },
  {
   "cell_type": "code",
   "execution_count": 51,
   "id": "63201ced-9ef7-484c-a68c-43cc5d6e00e0",
   "metadata": {},
   "outputs": [],
   "source": [
    "h.remove(11)"
   ]
  },
  {
   "cell_type": "code",
   "execution_count": 53,
   "id": "871f2f97-4119-4d98-b566-904369961e5e",
   "metadata": {},
   "outputs": [
    {
     "data": {
      "text/plain": [
       "['A', 'B', 'D', 'E', 6]"
      ]
     },
     "execution_count": 53,
     "metadata": {},
     "output_type": "execute_result"
    }
   ],
   "source": [
    "h"
   ]
  },
  {
   "cell_type": "code",
   "execution_count": 55,
   "id": "f9817f5b-7e14-49f3-9791-e1f227a78bc8",
   "metadata": {},
   "outputs": [],
   "source": [
    "t2=tuple(h)"
   ]
  },
  {
   "cell_type": "code",
   "execution_count": 57,
   "id": "f6105a2a-ff06-43f7-9ce1-76dd961516cd",
   "metadata": {},
   "outputs": [
    {
     "data": {
      "text/plain": [
       "('A', 'B', 'D', 'E', 6)"
      ]
     },
     "execution_count": 57,
     "metadata": {},
     "output_type": "execute_result"
    }
   ],
   "source": [
    "t2"
   ]
  },
  {
   "cell_type": "code",
   "execution_count": 5,
   "id": "2b2bff8d-623b-4832-a815-23c25df0d1f7",
   "metadata": {},
   "outputs": [
    {
     "data": {
      "text/plain": [
       "2"
      ]
     },
     "execution_count": 5,
     "metadata": {},
     "output_type": "execute_result"
    }
   ],
   "source": [
    "thistuple = (1, 3, 7, 8, 7, 5, 4, 6, 8, 5)\n",
    "\n",
    "thistuple.count(5)"
   ]
  },
  {
   "cell_type": "code",
   "execution_count": 7,
   "id": "2b061036-5bec-4b26-a31f-4883ee9f5dc6",
   "metadata": {},
   "outputs": [
    {
     "data": {
      "text/plain": [
       "3"
      ]
     },
     "execution_count": 7,
     "metadata": {},
     "output_type": "execute_result"
    }
   ],
   "source": [
    "thistuple.index(8)"
   ]
  },
  {
   "cell_type": "code",
   "execution_count": 9,
   "id": "6d82926f-dec7-4916-8c2e-64d87bd6f9a1",
   "metadata": {},
   "outputs": [
    {
     "data": {
      "text/plain": [
       "6"
      ]
     },
     "execution_count": 9,
     "metadata": {},
     "output_type": "execute_result"
    }
   ],
   "source": [
    "thistuple.index(4)"
   ]
  },
  {
   "cell_type": "code",
   "execution_count": 11,
   "id": "a1f80c63-1d5e-4fbf-9bac-d4213d332c39",
   "metadata": {},
   "outputs": [
    {
     "data": {
      "text/plain": [
       "5"
      ]
     },
     "execution_count": 11,
     "metadata": {},
     "output_type": "execute_result"
    }
   ],
   "source": [
    "thistuple.index(5)"
   ]
  },
  {
   "cell_type": "code",
   "execution_count": 13,
   "id": "6ebc113a-d666-4958-b7e7-2f93cb4f0fb6",
   "metadata": {},
   "outputs": [
    {
     "data": {
      "text/plain": [
       "0"
      ]
     },
     "execution_count": 13,
     "metadata": {},
     "output_type": "execute_result"
    }
   ],
   "source": [
    "thistuple.index(1)"
   ]
  },
  {
   "cell_type": "code",
   "execution_count": 7,
   "id": "01d6c048-137c-4552-a82e-4d862071c872",
   "metadata": {},
   "outputs": [
    {
     "name": "stdout",
     "output_type": "stream",
     "text": [
      "3\n"
     ]
    }
   ],
   "source": [
    "point = [1, 2, 4, 4, 5, 7, 8, 4, 1, 3]\n",
    "\n",
    "x = point.count(4)\n",
    "\n",
    "print(x)"
   ]
  },
  {
   "cell_type": "code",
   "execution_count": 11,
   "id": "3279f6ba-626e-4a6f-a20e-08ae06b24f50",
   "metadata": {},
   "outputs": [
    {
     "name": "stdout",
     "output_type": "stream",
     "text": [
      "5\n"
     ]
    }
   ],
   "source": [
    "txt = [1, 1, 1, 1, 1, 2, 2]\n",
    "x = txt.count(1)\n",
    "print(x)"
   ]
  },
  {
   "cell_type": "code",
   "execution_count": 15,
   "id": "5c276306-bc10-492d-99b9-a4de52964879",
   "metadata": {},
   "outputs": [
    {
     "name": "stdout",
     "output_type": "stream",
     "text": [
      "18\n"
     ]
    }
   ],
   "source": [
    "txt = \"hello wellcome to my home my is my world.\"\n",
    "x = txt.find(\"my\")\n",
    "print(x)"
   ]
  },
  {
   "cell_type": "code",
   "execution_count": null,
   "id": "6937d5d2-2217-442d-b29e-6066739c4c76",
   "metadata": {},
   "outputs": [],
   "source": []
  },
  {
   "cell_type": "code",
   "execution_count": 17,
   "id": "455c4fa8-45b5-4cb7-8512-ccdcfec55914",
   "metadata": {},
   "outputs": [
    {
     "name": "stdout",
     "output_type": "stream",
     "text": [
      "35\n"
     ]
    }
   ],
   "source": [
    "txt = \"hello wellcome to my home my is my world.\"\n",
    "x = txt.find(\"world\")\n",
    "print(x)"
   ]
  },
  {
   "cell_type": "code",
   "execution_count": 21,
   "id": "75861c6b-224a-4418-8bf9-5c199c0e385d",
   "metadata": {},
   "outputs": [
    {
     "ename": "AttributeError",
     "evalue": "'str' object has no attribute 'formate'",
     "output_type": "error",
     "traceback": [
      "\u001b[1;31m---------------------------------------------------------------------------\u001b[0m",
      "\u001b[1;31mAttributeError\u001b[0m                            Traceback (most recent call last)",
      "Cell \u001b[1;32mIn[21], line 2\u001b[0m\n\u001b[0;32m      1\u001b[0m txt \u001b[38;5;241m=\u001b[39m \u001b[38;5;124m\"\u001b[39m\u001b[38;5;124mfor only \u001b[39m\u001b[38;5;132;01m{price: .2f}\u001b[39;00m\u001b[38;5;124m dollars!\u001b[39m\u001b[38;5;124m\"\u001b[39m\n\u001b[1;32m----> 2\u001b[0m \u001b[38;5;28mprint\u001b[39m(txt\u001b[38;5;241m.\u001b[39mformate(price \u001b[38;5;241m=\u001b[39m \u001b[38;5;241m49\u001b[39m))\n",
      "\u001b[1;31mAttributeError\u001b[0m: 'str' object has no attribute 'formate'"
     ]
    }
   ],
   "source": [
    "txt = \"for only {price: .2f} dollars!\"\n",
    "print(txt.formate(price = 49))"
   ]
  },
  {
   "cell_type": "code",
   "execution_count": 23,
   "id": "e30c56a5-8fa0-494a-bdb5-a78e4bdc439c",
   "metadata": {},
   "outputs": [
    {
     "data": {
      "text/plain": [
       "2"
      ]
     },
     "execution_count": 23,
     "metadata": {},
     "output_type": "execute_result"
    }
   ],
   "source": [
    "thistuple = (1, 2, 1, 3, 8, 9, 5, 7, 3, 4)\n",
    "thistuple.count(1)"
   ]
  },
  {
   "cell_type": "code",
   "execution_count": 25,
   "id": "410081c4-0e95-4bac-89d9-0ea30cb49dbc",
   "metadata": {},
   "outputs": [
    {
     "data": {
      "text/plain": [
       "0"
      ]
     },
     "execution_count": 25,
     "metadata": {},
     "output_type": "execute_result"
    }
   ],
   "source": [
    "thistuple.index(1)"
   ]
  },
  {
   "cell_type": "code",
   "execution_count": 35,
   "id": "96435c41-ea0c-4491-98b2-1430524b3cf1",
   "metadata": {},
   "outputs": [
    {
     "data": {
      "text/plain": [
       "1"
      ]
     },
     "execution_count": 35,
     "metadata": {},
     "output_type": "execute_result"
    }
   ],
   "source": [
    "thistuple.index(2)\n",
    "\n"
   ]
  },
  {
   "cell_type": "code",
   "execution_count": 37,
   "id": "e9a4521c-dd07-43ef-b536-efdd57b30b47",
   "metadata": {},
   "outputs": [
    {
     "data": {
      "text/plain": [
       "5"
      ]
     },
     "execution_count": 37,
     "metadata": {},
     "output_type": "execute_result"
    }
   ],
   "source": [
    "thistuple.index(9)"
   ]
  },
  {
   "cell_type": "code",
   "execution_count": 39,
   "id": "3764ef5e-ffa3-4163-9493-6e60dbf5da97",
   "metadata": {},
   "outputs": [
    {
     "data": {
      "text/plain": [
       "4"
      ]
     },
     "execution_count": 39,
     "metadata": {},
     "output_type": "execute_result"
    }
   ],
   "source": [
    "thistuple.index(8)"
   ]
  },
  {
   "cell_type": "code",
   "execution_count": 41,
   "id": "df75b871-eea6-46dc-af27-fd0d411b607e",
   "metadata": {},
   "outputs": [
    {
     "name": "stdout",
     "output_type": "stream",
     "text": [
      "kunnu#divyansh#raj\n"
     ]
    }
   ],
   "source": [
    "mytuple = (\"kunnu\", \"divyansh\", \"raj\")\n",
    "x = \"#\".join(mytuple)\n",
    "print(x)\n"
   ]
  },
  {
   "cell_type": "code",
   "execution_count": 45,
   "id": "ed625eea-f031-4673-8553-e31c8e5b05fb",
   "metadata": {},
   "outputs": [
    {
     "name": "stdout",
     "output_type": "stream",
     "text": [
      "hello my friends\n"
     ]
    }
   ],
   "source": [
    "txt = \"hello my friends\"\n",
    "x = txt.lower()\n",
    "print(x)"
   ]
  },
  {
   "cell_type": "code",
   "execution_count": 49,
   "id": "03c4a324-b992-461f-9455-69925b021554",
   "metadata": {},
   "outputs": [
    {
     "name": "stdout",
     "output_type": "stream",
     "text": [
      "HELLO MY FRIENDS\n"
     ]
    }
   ],
   "source": [
    " txt = \"hello my friends\"\n",
    "x = txt.upper()\n",
    "print(x)"
   ]
  },
  {
   "cell_type": "code",
   "execution_count": 55,
   "id": "7a9bc45b-20b5-474f-a6ac-37f2f0349346",
   "metadata": {},
   "outputs": [
    {
     "name": "stdout",
     "output_type": "stream",
     "text": [
      "Welcome To My World\n"
     ]
    }
   ],
   "source": [
    "txt = \"Welcome To My World\"\n",
    "x = txt.title()\n",
    "print(x)"
   ]
  },
  {
   "cell_type": "code",
   "execution_count": 1,
   "id": "047dadeb-d3c8-48d1-90b1-a3c6389eaf09",
   "metadata": {},
   "outputs": [
    {
     "name": "stdout",
     "output_type": "stream",
     "text": [
      "Wellcome To My World\n"
     ]
    }
   ],
   "source": [
    "txt = \"wellcome to my world\"\n",
    "x = txt.title()\n",
    "print(x)"
   ]
  },
  {
   "cell_type": "code",
   "execution_count": 3,
   "id": "eaa2ecc4-94cd-4d7a-b9e4-2a052fe5b356",
   "metadata": {},
   "outputs": [
    {
     "name": "stdout",
     "output_type": "stream",
     "text": [
      "WELLCOME TO MY WORLD\n"
     ]
    }
   ],
   "source": [
    "txt = \"wellcome to my world\"\n",
    "x = txt.upper()\n",
    "print(x)"
   ]
  },
  {
   "cell_type": "code",
   "execution_count": 5,
   "id": "f584c3ee-fbba-4f02-8258-0ff49aed9827",
   "metadata": {},
   "outputs": [
    {
     "name": "stdout",
     "output_type": "stream",
     "text": [
      "wellcome to my world\n"
     ]
    }
   ],
   "source": [
    "txt = \"wellcome to my world\"\n",
    "x = txt.lower()\n",
    "print(x)"
   ]
  },
  {
   "cell_type": "code",
   "execution_count": 9,
   "id": "f63e1dbf-7fff-4b9f-9e7a-d4172829f6a8",
   "metadata": {},
   "outputs": [
    {
     "name": "stdout",
     "output_type": "stream",
     "text": [
      "kunnu#divyansh#raj\n"
     ]
    }
   ],
   "source": [
    "mytuple = (\"kunnu\", \"divyansh\", \"raj\")\n",
    "x = \"#\".join(mytuple)\n",
    "print(x)\n"
   ]
  },
  {
   "cell_type": "code",
   "execution_count": 11,
   "id": "7d07b15b-fa86-4802-b50d-4e806ed71a81",
   "metadata": {},
   "outputs": [
    {
     "name": "stdout",
     "output_type": "stream",
     "text": [
      "kunnu_divyansh_raj\n"
     ]
    }
   ],
   "source": [
    "mytuple = (\"kunnu\", \"divyansh\", \"raj\")\n",
    "x = \"_\".join(mytuple)\n",
    "print(x)\n"
   ]
  },
  {
   "cell_type": "code",
   "execution_count": 15,
   "id": "ffd478ff-2df9-4f05-a4c2-653911950eff",
   "metadata": {},
   "outputs": [
    {
     "name": "stdout",
     "output_type": "stream",
     "text": [
      "kunnu divyansh raj\n"
     ]
    }
   ],
   "source": [
    "mytuple = (\"kunnu\", \"divyansh\", \"raj\")\n",
    "x = \" \".join(mytuple)\n",
    "print(x)\n"
   ]
  },
  {
   "cell_type": "code",
   "execution_count": null,
   "id": "3a085a87-7ebe-4d0b-8aca-679cb480e07c",
   "metadata": {},
   "outputs": [],
   "source": []
  }
 ],
 "metadata": {
  "kernelspec": {
   "display_name": "Python [conda env:base] *",
   "language": "python",
   "name": "conda-base-py"
  },
  "language_info": {
   "codemirror_mode": {
    "name": "ipython",
    "version": 3
   },
   "file_extension": ".py",
   "mimetype": "text/x-python",
   "name": "python",
   "nbconvert_exporter": "python",
   "pygments_lexer": "ipython3",
   "version": "3.12.7"
  }
 },
 "nbformat": 4,
 "nbformat_minor": 5
}
