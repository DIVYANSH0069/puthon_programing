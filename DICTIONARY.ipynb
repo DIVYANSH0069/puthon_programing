{
 "cells": [
  {
   "cell_type": "code",
   "execution_count": 1,
   "id": "6680926d-3cf4-4e5d-99f3-62393a6f31a6",
   "metadata": {},
   "outputs": [
    {
     "name": "stdout",
     "output_type": "stream",
     "text": [
      "{'brand': 'bmw', 'model': 'iX', 'year': 1964}\n"
     ]
    }
   ],
   "source": [
    "car_dict={\"brand\":\"bmw\",\"model\":\"iX\",\"year\":1964}\n",
    "print(car_dict)"
   ]
  },
  {
   "cell_type": "code",
   "execution_count": 3,
   "id": "40d6755b-6740-44ab-b0b2-840780b8a9b7",
   "metadata": {},
   "outputs": [
    {
     "name": "stdout",
     "output_type": "stream",
     "text": [
      "bmw\n"
     ]
    }
   ],
   "source": [
    "#accessing dictionary elements\n",
    "print(car_dict['brand'])"
   ]
  },
  {
   "cell_type": "code",
   "execution_count": 5,
   "id": "c7684975-5aa6-47d0-99af-b30307df26c6",
   "metadata": {},
   "outputs": [
    {
     "name": "stdout",
     "output_type": "stream",
     "text": [
      "3\n"
     ]
    }
   ],
   "source": [
    "#lenght of dictionary\n",
    "print(len(car_dict))"
   ]
  },
  {
   "cell_type": "code",
   "execution_count": 7,
   "id": "aa33c0a6-d076-4241-86ef-b534edb26577",
   "metadata": {},
   "outputs": [
    {
     "name": "stdout",
     "output_type": "stream",
     "text": [
      "<class 'dict'>\n"
     ]
    }
   ],
   "source": [
    "#type of data\n",
    "print(type(car_dict))"
   ]
  },
  {
   "cell_type": "code",
   "execution_count": 9,
   "id": "27407d31-c7f6-4517-8685-a873280cc383",
   "metadata": {},
   "outputs": [],
   "source": [
    "#for duplicate key\n",
    "car_dict2={\"brand\":\"bmw\",\"model\":\"iX\",\"years\":1964,\"year\":2000}"
   ]
  },
  {
   "cell_type": "code",
   "execution_count": 11,
   "id": "f0b8cbcf-1fd1-4943-ab3a-d167ad60ada9",
   "metadata": {},
   "outputs": [
    {
     "data": {
      "text/plain": [
       "{'brand': 'bmw', 'model': 'iX', 'years': 1964, 'year': 2000}"
      ]
     },
     "execution_count": 11,
     "metadata": {},
     "output_type": "execute_result"
    }
   ],
   "source": [
    "car_dict2"
   ]
  },
  {
   "cell_type": "code",
   "execution_count": 13,
   "id": "8e55c3c4-d637-4c09-9af8-407384e32c9e",
   "metadata": {},
   "outputs": [],
   "source": [
    "car_dict3={\"brand\":\"bmw\",\"model\":\"iX\",\"year\":2024,\"year\":2000}"
   ]
  },
  {
   "cell_type": "code",
   "execution_count": 15,
   "id": "bf08c087-f8ad-4e19-8af4-e7f477bc09ec",
   "metadata": {},
   "outputs": [
    {
     "data": {
      "text/plain": [
       "{'brand': 'bmw', 'model': 'iX', 'year': 2000}"
      ]
     },
     "execution_count": 15,
     "metadata": {},
     "output_type": "execute_result"
    }
   ],
   "source": [
    "car_dict3"
   ]
  },
  {
   "cell_type": "code",
   "execution_count": 17,
   "id": "c192b063-be1c-4939-a592-8161b30afcb5",
   "metadata": {},
   "outputs": [],
   "source": [
    "#for accessing dict items\n",
    "x=car_dict.get(\"model\")"
   ]
  },
  {
   "cell_type": "code",
   "execution_count": 19,
   "id": "009708cb-33bb-4216-b876-6263b4362187",
   "metadata": {},
   "outputs": [
    {
     "data": {
      "text/plain": [
       "'iX'"
      ]
     },
     "execution_count": 19,
     "metadata": {},
     "output_type": "execute_result"
    }
   ],
   "source": [
    "x"
   ]
  },
  {
   "cell_type": "code",
   "execution_count": 23,
   "id": "249ef78f-97b2-4bca-a2b4-1ca36fd9872e",
   "metadata": {},
   "outputs": [
    {
     "data": {
      "text/plain": [
       "dict_keys(['brand', 'model', 'year'])"
      ]
     },
     "execution_count": 23,
     "metadata": {},
     "output_type": "execute_result"
    }
   ],
   "source": [
    "#the keys() method will return a list of all the keys in the dictionary.\n",
    "car_dict.keys()"
   ]
  },
  {
   "cell_type": "code",
   "execution_count": 27,
   "id": "7811e293-13a7-4483-9fa8-f1c89843138f",
   "metadata": {},
   "outputs": [
    {
     "data": {
      "text/plain": [
       "dict_values(['bmw', 'iX', 1964])"
      ]
     },
     "execution_count": 27,
     "metadata": {},
     "output_type": "execute_result"
    }
   ],
   "source": [
    "# the value() method will return a list of the values in the dictionary\n",
    "car_dict.values()"
   ]
  },
  {
   "cell_type": "code",
   "execution_count": 29,
   "id": "deadc321-e18b-4a02-a3d9-b2697f7875cd",
   "metadata": {},
   "outputs": [
    {
     "name": "stdout",
     "output_type": "stream",
     "text": [
      "{'brand': 'bmw', 'model': 'iX', 'year': 2024}\n"
     ]
    }
   ],
   "source": [
    "# to change the values of dictionary\n",
    "car_dict[\"year\"] = 2024\n",
    "print(car_dict)"
   ]
  },
  {
   "cell_type": "code",
   "execution_count": 33,
   "id": "5737cb82-68d7-4e1b-b8d4-aaa7991946ea",
   "metadata": {},
   "outputs": [
    {
     "name": "stdout",
     "output_type": "stream",
     "text": [
      "{'brand': 'bmw', 'model': 'iX', 'year': 2024, 'colour': 'white'}\n"
     ]
    }
   ],
   "source": [
    "# to add new key:values in dictionary\n",
    "car_dict[\"colour\"] = \"white\"\n",
    "print(car_dict)"
   ]
  },
  {
   "cell_type": "code",
   "execution_count": 39,
   "id": "baabd89b-a6cd-48b5-841e-eb9040dd43de",
   "metadata": {},
   "outputs": [
    {
     "name": "stdout",
     "output_type": "stream",
     "text": [
      "{'name': 'a', 'year': 2023, 'pass': True, 'marks': [50, 60, 70]}\n"
     ]
    }
   ],
   "source": [
    "# the values in dictionary items can be of any data type\n",
    "d3={\"name\":\"a\",'year':2023,'pass':True,'marks':[50,60,70]}\n",
    "print(d3)"
   ]
  },
  {
   "cell_type": "code",
   "execution_count": 43,
   "id": "1feb007e-fbab-4951-80c1-6db7770e83c6",
   "metadata": {},
   "outputs": [
    {
     "name": "stdout",
     "output_type": "stream",
     "text": [
      "{'name': 'a', 'year': 2024, 'pass': True, 'marks': [50, 60, 70]}\n"
     ]
    }
   ],
   "source": [
    "d3.update({\"year\":2024})\n",
    "print(d3)"
   ]
  },
  {
   "cell_type": "code",
   "execution_count": 45,
   "id": "bdee1915-06ca-410b-9abe-b1b161380e0f",
   "metadata": {},
   "outputs": [
    {
     "name": "stdout",
     "output_type": "stream",
     "text": [
      "{'name': 'a', 'year': 2024, 'pass': True, 'marks': [50, 60, 70], 'phone_no': 94566}\n"
     ]
    }
   ],
   "source": [
    "# adding anew pair of key and values\n",
    "d3[\"phone_no\"] = 94566\n",
    "print(d3)"
   ]
  },
  {
   "cell_type": "code",
   "execution_count": 47,
   "id": "005335b4-10f9-4a70-aa31-5e86983e6fde",
   "metadata": {},
   "outputs": [
    {
     "name": "stdout",
     "output_type": "stream",
     "text": [
      "{'name': 'a', 'year': 2024, 'pass': True, 'marks': [50, 60, 70], 'phone_no': 94566, 'email': 'asdf@gmail.com'}\n"
     ]
    }
   ],
   "source": [
    "d3.update({\"email\":\"asdf@gmail.com\"})\n",
    "print(d3)"
   ]
  },
  {
   "cell_type": "code",
   "execution_count": 49,
   "id": "de3f04db-2b31-4e3a-add6-050fe119d260",
   "metadata": {},
   "outputs": [
    {
     "data": {
      "text/plain": [
       "94566"
      ]
     },
     "execution_count": 49,
     "metadata": {},
     "output_type": "execute_result"
    }
   ],
   "source": [
    "# for removing dictionary items\n",
    "#the pop() method removes the item with the specified key name:\n",
    "\n",
    "d3.pop('phone_no')"
   ]
  },
  {
   "cell_type": "code",
   "execution_count": 51,
   "id": "bd465263-3eef-40e9-a9f2-76c35f5752f1",
   "metadata": {},
   "outputs": [
    {
     "data": {
      "text/plain": [
       "{'name': 'a',\n",
       " 'year': 2024,\n",
       " 'pass': True,\n",
       " 'marks': [50, 60, 70],\n",
       " 'email': 'asdf@gmail.com'}"
      ]
     },
     "execution_count": 51,
     "metadata": {},
     "output_type": "execute_result"
    }
   ],
   "source": [
    "d3"
   ]
  },
  {
   "cell_type": "code",
   "execution_count": 53,
   "id": "9a9920d1-0474-4c28-b3cd-ab1188184cb8",
   "metadata": {},
   "outputs": [
    {
     "name": "stdout",
     "output_type": "stream",
     "text": [
      "{'name': 'a', 'year': 2024, 'pass': True, 'marks': [50, 60, 70]}\n"
     ]
    }
   ],
   "source": [
    "# the popitem() method removes the last inserted item\n",
    "d3.popitem()\n",
    "print(d3)"
   ]
  },
  {
   "cell_type": "code",
   "execution_count": 55,
   "id": "fd48c6fa-fb33-4db4-b75a-20703e7bf782",
   "metadata": {},
   "outputs": [],
   "source": [
    "# the dal  keyword removes the item with the specifed key name:\n",
    "del d3['marks']"
   ]
  },
  {
   "cell_type": "code",
   "execution_count": 57,
   "id": "74bb5128-91d0-440c-9274-e3f25b9c248d",
   "metadata": {},
   "outputs": [
    {
     "data": {
      "text/plain": [
       "{'name': 'a', 'year': 2024, 'pass': True}"
      ]
     },
     "execution_count": 57,
     "metadata": {},
     "output_type": "execute_result"
    }
   ],
   "source": [
    "d3"
   ]
  },
  {
   "cell_type": "code",
   "execution_count": 63,
   "id": "0d412ccd-53a9-4e0c-a297-3c6f3a5be61b",
   "metadata": {},
   "outputs": [
    {
     "name": "stdout",
     "output_type": "stream",
     "text": [
      "{}\n",
      "<class 'dict'>\n"
     ]
    }
   ],
   "source": [
    "# the del keyword can also delete the dictionary completely\n",
    "d3 = {\"name\":\"a\",\"year\":2023,\"pass\":True, \"marks\":[50,60,70]}\n",
    "d3.clear()\n",
    "print(d3)\n",
    "print(type(d3))"
   ]
  },
  {
   "cell_type": "code",
   "execution_count": null,
   "id": "48b97c7b-533d-4750-ae30-d07fbdc18067",
   "metadata": {},
   "outputs": [],
   "source": []
  }
 ],
 "metadata": {
  "kernelspec": {
   "display_name": "Python [conda env:base] *",
   "language": "python",
   "name": "conda-base-py"
  },
  "language_info": {
   "codemirror_mode": {
    "name": "ipython",
    "version": 3
   },
   "file_extension": ".py",
   "mimetype": "text/x-python",
   "name": "python",
   "nbconvert_exporter": "python",
   "pygments_lexer": "ipython3",
   "version": "3.12.7"
  }
 },
 "nbformat": 4,
 "nbformat_minor": 5
}
